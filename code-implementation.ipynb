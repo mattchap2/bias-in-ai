{
 "metadata": {
  "language_info": {
   "codemirror_mode": {
    "name": "ipython",
    "version": 3
   },
   "file_extension": ".py",
   "mimetype": "text/x-python",
   "name": "python",
   "nbconvert_exporter": "python",
   "pygments_lexer": "ipython3",
   "version": "3.8.5-final"
  },
  "orig_nbformat": 2,
  "kernelspec": {
   "name": "python3",
   "display_name": "Python 3.8.5 64-bit ('base': conda)",
   "metadata": {
    "interpreter": {
     "hash": "d273c13f55473686234ccab8dd29cbdfd2b3e7b5c27c210c739eece1c1229cf6"
    }
   }
  }
 },
 "nbformat": 4,
 "nbformat_minor": 2,
 "cells": [
  {
   "source": [
    "# Coursework Assignment: Bias in AI"
   ],
   "cell_type": "markdown",
   "metadata": {}
  },
  {
   "source": [
    "Link to dataset used (given in 'Project Suggestions'): https://www.kaggle.com/kabure/german-credit-data-with-risk"
   ],
   "cell_type": "markdown",
   "metadata": {}
  },
  {
   "cell_type": "code",
   "execution_count": 152,
   "metadata": {},
   "outputs": [],
   "source": [
    "# imports\n",
    "import pandas as pd\n",
    "import numpy as np\n",
    "import seaborn as sns\n",
    "from matplotlib import pyplot as plt"
   ]
  },
  {
   "cell_type": "code",
   "execution_count": 127,
   "metadata": {},
   "outputs": [],
   "source": [
    "# load the data\n",
    "df = pd.read_csv(\"./data/german_credit_data.csv\", index_col=0)\n",
    "\n",
    "# make a copy of the original data\n",
    "original_df = df.copy()"
   ]
  },
  {
   "cell_type": "code",
   "execution_count": 128,
   "metadata": {},
   "outputs": [
    {
     "output_type": "stream",
     "name": "stdout",
     "text": [
      "<class 'pandas.core.frame.DataFrame'>\nInt64Index: 1000 entries, 0 to 999\nData columns (total 10 columns):\n #   Column            Non-Null Count  Dtype \n---  ------            --------------  ----- \n 0   Age               1000 non-null   int64 \n 1   Sex               1000 non-null   object\n 2   Job               1000 non-null   int64 \n 3   Housing           1000 non-null   object\n 4   Saving accounts   817 non-null    object\n 5   Checking account  606 non-null    object\n 6   Credit amount     1000 non-null   int64 \n 7   Duration          1000 non-null   int64 \n 8   Purpose           1000 non-null   object\n 9   Risk              1000 non-null   object\ndtypes: int64(4), object(6)\nmemory usage: 85.9+ KB\n"
     ]
    }
   ],
   "source": [
    "df.info()"
   ]
  },
  {
   "cell_type": "code",
   "execution_count": 129,
   "metadata": {},
   "outputs": [
    {
     "output_type": "execute_result",
     "data": {
      "text/plain": [
       "               Age          Job  Credit amount     Duration\n",
       "count  1000.000000  1000.000000    1000.000000  1000.000000\n",
       "mean     35.546000     1.904000    3271.258000    20.903000\n",
       "std      11.375469     0.653614    2822.736876    12.058814\n",
       "min      19.000000     0.000000     250.000000     4.000000\n",
       "25%      27.000000     2.000000    1365.500000    12.000000\n",
       "50%      33.000000     2.000000    2319.500000    18.000000\n",
       "75%      42.000000     2.000000    3972.250000    24.000000\n",
       "max      75.000000     3.000000   18424.000000    72.000000"
      ],
      "text/html": "<div>\n<style scoped>\n    .dataframe tbody tr th:only-of-type {\n        vertical-align: middle;\n    }\n\n    .dataframe tbody tr th {\n        vertical-align: top;\n    }\n\n    .dataframe thead th {\n        text-align: right;\n    }\n</style>\n<table border=\"1\" class=\"dataframe\">\n  <thead>\n    <tr style=\"text-align: right;\">\n      <th></th>\n      <th>Age</th>\n      <th>Job</th>\n      <th>Credit amount</th>\n      <th>Duration</th>\n    </tr>\n  </thead>\n  <tbody>\n    <tr>\n      <th>count</th>\n      <td>1000.000000</td>\n      <td>1000.000000</td>\n      <td>1000.000000</td>\n      <td>1000.000000</td>\n    </tr>\n    <tr>\n      <th>mean</th>\n      <td>35.546000</td>\n      <td>1.904000</td>\n      <td>3271.258000</td>\n      <td>20.903000</td>\n    </tr>\n    <tr>\n      <th>std</th>\n      <td>11.375469</td>\n      <td>0.653614</td>\n      <td>2822.736876</td>\n      <td>12.058814</td>\n    </tr>\n    <tr>\n      <th>min</th>\n      <td>19.000000</td>\n      <td>0.000000</td>\n      <td>250.000000</td>\n      <td>4.000000</td>\n    </tr>\n    <tr>\n      <th>25%</th>\n      <td>27.000000</td>\n      <td>2.000000</td>\n      <td>1365.500000</td>\n      <td>12.000000</td>\n    </tr>\n    <tr>\n      <th>50%</th>\n      <td>33.000000</td>\n      <td>2.000000</td>\n      <td>2319.500000</td>\n      <td>18.000000</td>\n    </tr>\n    <tr>\n      <th>75%</th>\n      <td>42.000000</td>\n      <td>2.000000</td>\n      <td>3972.250000</td>\n      <td>24.000000</td>\n    </tr>\n    <tr>\n      <th>max</th>\n      <td>75.000000</td>\n      <td>3.000000</td>\n      <td>18424.000000</td>\n      <td>72.000000</td>\n    </tr>\n  </tbody>\n</table>\n</div>"
     },
     "metadata": {},
     "execution_count": 129
    }
   ],
   "source": [
    "df.describe()"
   ]
  },
  {
   "cell_type": "code",
   "execution_count": 130,
   "metadata": {},
   "outputs": [
    {
     "output_type": "execute_result",
     "data": {
      "text/plain": [
       "   Age     Sex  Job Housing Saving accounts Checking account  Credit amount  \\\n",
       "0   67    male    2     own             NaN           little           1169   \n",
       "1   22  female    2     own          little         moderate           5951   \n",
       "2   49    male    1     own          little              NaN           2096   \n",
       "3   45    male    2    free          little           little           7882   \n",
       "4   53    male    2    free          little           little           4870   \n",
       "\n",
       "   Duration              Purpose  Risk  \n",
       "0         6             radio/TV  good  \n",
       "1        48             radio/TV   bad  \n",
       "2        12            education  good  \n",
       "3        42  furniture/equipment  good  \n",
       "4        24                  car   bad  "
      ],
      "text/html": "<div>\n<style scoped>\n    .dataframe tbody tr th:only-of-type {\n        vertical-align: middle;\n    }\n\n    .dataframe tbody tr th {\n        vertical-align: top;\n    }\n\n    .dataframe thead th {\n        text-align: right;\n    }\n</style>\n<table border=\"1\" class=\"dataframe\">\n  <thead>\n    <tr style=\"text-align: right;\">\n      <th></th>\n      <th>Age</th>\n      <th>Sex</th>\n      <th>Job</th>\n      <th>Housing</th>\n      <th>Saving accounts</th>\n      <th>Checking account</th>\n      <th>Credit amount</th>\n      <th>Duration</th>\n      <th>Purpose</th>\n      <th>Risk</th>\n    </tr>\n  </thead>\n  <tbody>\n    <tr>\n      <th>0</th>\n      <td>67</td>\n      <td>male</td>\n      <td>2</td>\n      <td>own</td>\n      <td>NaN</td>\n      <td>little</td>\n      <td>1169</td>\n      <td>6</td>\n      <td>radio/TV</td>\n      <td>good</td>\n    </tr>\n    <tr>\n      <th>1</th>\n      <td>22</td>\n      <td>female</td>\n      <td>2</td>\n      <td>own</td>\n      <td>little</td>\n      <td>moderate</td>\n      <td>5951</td>\n      <td>48</td>\n      <td>radio/TV</td>\n      <td>bad</td>\n    </tr>\n    <tr>\n      <th>2</th>\n      <td>49</td>\n      <td>male</td>\n      <td>1</td>\n      <td>own</td>\n      <td>little</td>\n      <td>NaN</td>\n      <td>2096</td>\n      <td>12</td>\n      <td>education</td>\n      <td>good</td>\n    </tr>\n    <tr>\n      <th>3</th>\n      <td>45</td>\n      <td>male</td>\n      <td>2</td>\n      <td>free</td>\n      <td>little</td>\n      <td>little</td>\n      <td>7882</td>\n      <td>42</td>\n      <td>furniture/equipment</td>\n      <td>good</td>\n    </tr>\n    <tr>\n      <th>4</th>\n      <td>53</td>\n      <td>male</td>\n      <td>2</td>\n      <td>free</td>\n      <td>little</td>\n      <td>little</td>\n      <td>4870</td>\n      <td>24</td>\n      <td>car</td>\n      <td>bad</td>\n    </tr>\n  </tbody>\n</table>\n</div>"
     },
     "metadata": {},
     "execution_count": 130
    }
   ],
   "source": [
    "df.head()"
   ]
  },
  {
   "cell_type": "code",
   "execution_count": 131,
   "metadata": {},
   "outputs": [
    {
     "output_type": "execute_result",
     "data": {
      "text/plain": [
       "   Age     Sex  Job Housing Saving accounts Checking account  Credit amount  \\\n",
       "0   67    male    2     own             NaN           little           1169   \n",
       "1   22  female    2     own          little         moderate           5951   \n",
       "2   49    male    1     own          little              NaN           2096   \n",
       "3   45    male    2    free          little           little           7882   \n",
       "4   53    male    2    free          little           little           4870   \n",
       "\n",
       "   Duration              Purpose  Risk  Age_Group  \n",
       "0         6             radio/TV  good        NaN  \n",
       "1        48             radio/TV   bad        NaN  \n",
       "2        12            education  good        NaN  \n",
       "3        42  furniture/equipment  good        NaN  \n",
       "4        24                  car   bad        NaN  "
      ],
      "text/html": "<div>\n<style scoped>\n    .dataframe tbody tr th:only-of-type {\n        vertical-align: middle;\n    }\n\n    .dataframe tbody tr th {\n        vertical-align: top;\n    }\n\n    .dataframe thead th {\n        text-align: right;\n    }\n</style>\n<table border=\"1\" class=\"dataframe\">\n  <thead>\n    <tr style=\"text-align: right;\">\n      <th></th>\n      <th>Age</th>\n      <th>Sex</th>\n      <th>Job</th>\n      <th>Housing</th>\n      <th>Saving accounts</th>\n      <th>Checking account</th>\n      <th>Credit amount</th>\n      <th>Duration</th>\n      <th>Purpose</th>\n      <th>Risk</th>\n      <th>Age_Group</th>\n    </tr>\n  </thead>\n  <tbody>\n    <tr>\n      <th>0</th>\n      <td>67</td>\n      <td>male</td>\n      <td>2</td>\n      <td>own</td>\n      <td>NaN</td>\n      <td>little</td>\n      <td>1169</td>\n      <td>6</td>\n      <td>radio/TV</td>\n      <td>good</td>\n      <td>NaN</td>\n    </tr>\n    <tr>\n      <th>1</th>\n      <td>22</td>\n      <td>female</td>\n      <td>2</td>\n      <td>own</td>\n      <td>little</td>\n      <td>moderate</td>\n      <td>5951</td>\n      <td>48</td>\n      <td>radio/TV</td>\n      <td>bad</td>\n      <td>NaN</td>\n    </tr>\n    <tr>\n      <th>2</th>\n      <td>49</td>\n      <td>male</td>\n      <td>1</td>\n      <td>own</td>\n      <td>little</td>\n      <td>NaN</td>\n      <td>2096</td>\n      <td>12</td>\n      <td>education</td>\n      <td>good</td>\n      <td>NaN</td>\n    </tr>\n    <tr>\n      <th>3</th>\n      <td>45</td>\n      <td>male</td>\n      <td>2</td>\n      <td>free</td>\n      <td>little</td>\n      <td>little</td>\n      <td>7882</td>\n      <td>42</td>\n      <td>furniture/equipment</td>\n      <td>good</td>\n      <td>NaN</td>\n    </tr>\n    <tr>\n      <th>4</th>\n      <td>53</td>\n      <td>male</td>\n      <td>2</td>\n      <td>free</td>\n      <td>little</td>\n      <td>little</td>\n      <td>4870</td>\n      <td>24</td>\n      <td>car</td>\n      <td>bad</td>\n      <td>NaN</td>\n    </tr>\n  </tbody>\n</table>\n</div>"
     },
     "metadata": {},
     "execution_count": 131
    }
   ],
   "source": [
    "# create age group column\n",
    "df['Age_Group'] = np.nan\n",
    "\n",
    "df.head()"
   ]
  },
  {
   "cell_type": "code",
   "execution_count": 132,
   "metadata": {},
   "outputs": [
    {
     "output_type": "stream",
     "name": "stdout",
     "text": [
      "     Age     Sex  Job Housing Saving accounts Checking account  Credit amount  \\\n0     67    male    2     own             NaN           little           1169   \n1     22  female    2     own          little         moderate           5951   \n2     49    male    1     own          little              NaN           2096   \n3     45    male    2    free          little           little           7882   \n4     53    male    2    free          little           little           4870   \n..   ...     ...  ...     ...             ...              ...            ...   \n995   31  female    1     own          little              NaN           1736   \n996   40    male    3     own          little           little           3857   \n997   38    male    2     own          little              NaN            804   \n998   23    male    2    free          little           little           1845   \n999   27    male    2     own        moderate         moderate           4576   \n\n     Duration              Purpose  Risk  Age_Group  \n0           6             radio/TV  good        NaN  \n1          48             radio/TV   bad        NaN  \n2          12            education  good        NaN  \n3          42  furniture/equipment  good        NaN  \n4          24                  car   bad        NaN  \n..        ...                  ...   ...        ...  \n995        12  furniture/equipment  good        NaN  \n996        30                  car  good        NaN  \n997        12             radio/TV  good        NaN  \n998        45             radio/TV   bad        NaN  \n999        45                  car  good        NaN  \n\n[1000 rows x 11 columns]\n"
     ]
    }
   ],
   "source": [
    "for col in [df]:\n",
    "    print(col)"
   ]
  },
  {
   "cell_type": "code",
   "execution_count": 133,
   "metadata": {},
   "outputs": [
    {
     "output_type": "execute_result",
     "data": {
      "text/plain": [
       "   Age     Sex  Job Housing Saving accounts Checking account  Credit amount  \\\n",
       "0   67    male    2     own             NaN           little           1169   \n",
       "1   22  female    2     own          little         moderate           5951   \n",
       "2   49    male    1     own          little              NaN           2096   \n",
       "3   45    male    2    free          little           little           7882   \n",
       "4   53    male    2    free          little           little           4870   \n",
       "\n",
       "   Duration              Purpose  Risk Age_Group  \n",
       "0         6             radio/TV  good     Elder  \n",
       "1        48             radio/TV   bad     Young  \n",
       "2        12            education  good    Senior  \n",
       "3        42  furniture/equipment  good    Senior  \n",
       "4        24                  car   bad    Senior  "
      ],
      "text/html": "<div>\n<style scoped>\n    .dataframe tbody tr th:only-of-type {\n        vertical-align: middle;\n    }\n\n    .dataframe tbody tr th {\n        vertical-align: top;\n    }\n\n    .dataframe thead th {\n        text-align: right;\n    }\n</style>\n<table border=\"1\" class=\"dataframe\">\n  <thead>\n    <tr style=\"text-align: right;\">\n      <th></th>\n      <th>Age</th>\n      <th>Sex</th>\n      <th>Job</th>\n      <th>Housing</th>\n      <th>Saving accounts</th>\n      <th>Checking account</th>\n      <th>Credit amount</th>\n      <th>Duration</th>\n      <th>Purpose</th>\n      <th>Risk</th>\n      <th>Age_Group</th>\n    </tr>\n  </thead>\n  <tbody>\n    <tr>\n      <th>0</th>\n      <td>67</td>\n      <td>male</td>\n      <td>2</td>\n      <td>own</td>\n      <td>NaN</td>\n      <td>little</td>\n      <td>1169</td>\n      <td>6</td>\n      <td>radio/TV</td>\n      <td>good</td>\n      <td>Elder</td>\n    </tr>\n    <tr>\n      <th>1</th>\n      <td>22</td>\n      <td>female</td>\n      <td>2</td>\n      <td>own</td>\n      <td>little</td>\n      <td>moderate</td>\n      <td>5951</td>\n      <td>48</td>\n      <td>radio/TV</td>\n      <td>bad</td>\n      <td>Young</td>\n    </tr>\n    <tr>\n      <th>2</th>\n      <td>49</td>\n      <td>male</td>\n      <td>1</td>\n      <td>own</td>\n      <td>little</td>\n      <td>NaN</td>\n      <td>2096</td>\n      <td>12</td>\n      <td>education</td>\n      <td>good</td>\n      <td>Senior</td>\n    </tr>\n    <tr>\n      <th>3</th>\n      <td>45</td>\n      <td>male</td>\n      <td>2</td>\n      <td>free</td>\n      <td>little</td>\n      <td>little</td>\n      <td>7882</td>\n      <td>42</td>\n      <td>furniture/equipment</td>\n      <td>good</td>\n      <td>Senior</td>\n    </tr>\n    <tr>\n      <th>4</th>\n      <td>53</td>\n      <td>male</td>\n      <td>2</td>\n      <td>free</td>\n      <td>little</td>\n      <td>little</td>\n      <td>4870</td>\n      <td>24</td>\n      <td>car</td>\n      <td>bad</td>\n      <td>Senior</td>\n    </tr>\n  </tbody>\n</table>\n</div>"
     },
     "metadata": {},
     "execution_count": 133
    }
   ],
   "source": [
    "# populate age group column\n",
    "for col in [df]:\n",
    "    col.loc[(col['Age'] > 18) & (col['Age'] <= 29), 'Age_Group'] = 'Young'\n",
    "    col.loc[(col['Age'] > 29) & (col['Age'] <= 40), 'Age_Group'] = 'Young Adults'\n",
    "    col.loc[(col['Age'] > 40) & (col['Age'] <= 55), 'Age_Group'] = 'Senior'\n",
    "    col.loc[col['Age'] > 55, 'Age_Group'] = 'Elder' \n",
    "    \n",
    "df.head()"
   ]
  },
  {
   "cell_type": "code",
   "execution_count": 134,
   "metadata": {},
   "outputs": [
    {
     "output_type": "execute_result",
     "data": {
      "text/plain": [
       "male      690\n",
       "female    310\n",
       "Name: Sex, dtype: int64"
      ]
     },
     "metadata": {},
     "execution_count": 134
    }
   ],
   "source": [
    "df['Sex'].value_counts()"
   ]
  },
  {
   "cell_type": "code",
   "execution_count": 135,
   "metadata": {},
   "outputs": [
    {
     "output_type": "execute_result",
     "data": {
      "text/plain": [
       "Young           371\n",
       "Young Adults    355\n",
       "Senior          203\n",
       "Elder            71\n",
       "Name: Age_Group, dtype: int64"
      ]
     },
     "metadata": {},
     "execution_count": 135
    }
   ],
   "source": [
    "df['Age_Group'].value_counts()"
   ]
  },
  {
   "cell_type": "code",
   "execution_count": 136,
   "metadata": {},
   "outputs": [],
   "source": [
    "def print_stats(df):\n",
    "    print('mean: ', [round(num, 1) for num in list(df.mean())[1:]])\n",
    "    print('variance: ', [round(num, 1) for num in list(df.var())[1:]])\n",
    "    print('\\n')\n",
    "    zips = []\n",
    "    for col in ['Housing', 'Saving accounts', 'Checking account',\n",
    "       'Purpose', 'Risk']:\n",
    "       vals = df[col].value_counts().values\n",
    "       inds = df[col].value_counts().index\n",
    "       z = list(zip(inds, vals))[:3]\n",
    "       if col == 'Risk':\n",
    "           z.append('-')\n",
    "       zips.append(z)\n",
    "       print(z)\n",
    "       print('\\n')\n",
    "    print(list(zip(zips[0], zips[1], zips[2], zips[3], zips[4])))"
   ]
  },
  {
   "cell_type": "code",
   "execution_count": 137,
   "metadata": {},
   "outputs": [
    {
     "output_type": "stream",
     "name": "stdout",
     "text": [
      "mean:  [1.9, 3448.0, 21.6]\nvariance:  [0.4, 8412806.3, 154.7]\n\n\n[('own', 517), ('free', 89), ('rent', 84)]\n\n\n[('little', 409), ('moderate', 71), ('quite rich', 47)]\n\n\n[('little', 186), ('moderate', 183), ('rich', 43)]\n\n\n[('car', 243), ('radio/TV', 195), ('furniture/equipment', 107)]\n\n\n[('good', 499), ('bad', 191), '-']\n\n\n[(('own', 517), ('little', 409), ('little', 186), ('car', 243), ('good', 499)), (('free', 89), ('moderate', 71), ('moderate', 183), ('radio/TV', 195), ('bad', 191)), (('rent', 84), ('quite rich', 47), ('rich', 43), ('furniture/equipment', 107), '-')]\n"
     ]
    }
   ],
   "source": [
    "df_male = df[df['Sex'] == 'male']\n",
    "print_stats(df_male)"
   ]
  },
  {
   "cell_type": "code",
   "execution_count": 138,
   "metadata": {},
   "outputs": [
    {
     "output_type": "stream",
     "name": "stdout",
     "text": [
      "mean:  [1.8, 2877.8, 19.4]\n",
      "variance:  [0.5, 6776346.3, 122.1]\n",
      "\n",
      "\n",
      "[('own', 196), ('rent', 95), ('free', 19)]\n",
      "\n",
      "\n",
      "[('little', 194), ('moderate', 32), ('rich', 19)]\n",
      "\n",
      "\n",
      "[('little', 88), ('moderate', 86), ('rich', 20)]\n",
      "\n",
      "\n",
      "[('car', 94), ('radio/TV', 85), ('furniture/equipment', 74)]\n",
      "\n",
      "\n",
      "[('good', 201), ('bad', 109), '-']\n",
      "\n",
      "\n",
      "[(('own', 196), ('little', 194), ('little', 88), ('car', 94), ('good', 201)), (('rent', 95), ('moderate', 32), ('moderate', 86), ('radio/TV', 85), ('bad', 109)), (('free', 19), ('rich', 19), ('rich', 20), ('furniture/equipment', 74), '-')]\n"
     ]
    }
   ],
   "source": [
    "df_female = df[df['Sex'] == 'female']\n",
    "print_stats(df_female)"
   ]
  },
  {
   "cell_type": "code",
   "execution_count": 139,
   "metadata": {},
   "outputs": [
    {
     "output_type": "stream",
     "name": "stdout",
     "text": [
      "mean:  [1.8, 3089.0, 20.8]\nvariance:  [0.3, 7261837.7, 142.6]\n\n\n[('own', 248), ('rent', 113), ('free', 10)]\n\n\n[('little', 242), ('moderate', 42), ('quite rich', 19)]\n\n\n[('little', 115), ('moderate', 112), ('rich', 24)]\n\n\n[('radio/TV', 117), ('car', 102), ('furniture/equipment', 84)]\n\n\n[('good', 234), ('bad', 137), '-']\n\n\n[(('own', 248), ('little', 242), ('little', 115), ('radio/TV', 117), ('good', 234)), (('rent', 113), ('moderate', 42), ('moderate', 112), ('car', 102), ('bad', 137)), (('free', 10), ('quite rich', 19), ('rich', 24), ('furniture/equipment', 84), '-')]\n"
     ]
    }
   ],
   "source": [
    "df_Young = df[df['Age_Group'] == 'Young']\n",
    "print_stats(df_Young)"
   ]
  },
  {
   "cell_type": "code",
   "execution_count": 140,
   "metadata": {},
   "outputs": [
    {
     "output_type": "stream",
     "name": "stdout",
     "text": [
      "mean:  [2.0, 3375.5, 21.5]\nvariance:  [0.4, 7646336.1, 139.2]\n\n\n[('own', 278), ('free', 39), ('rent', 38)]\n\n\n[('little', 201), ('moderate', 41), ('quite rich', 24)]\n\n\n[('moderate', 100), ('little', 81), ('rich', 18)]\n\n\n[('car', 128), ('radio/TV', 93), ('furniture/equipment', 58)]\n\n\n[('good', 264), ('bad', 91), '-']\n\n\n[(('own', 278), ('little', 201), ('moderate', 100), ('car', 128), ('good', 264)), (('free', 39), ('moderate', 41), ('little', 81), ('radio/TV', 93), ('bad', 91)), (('rent', 38), ('quite rich', 24), ('rich', 18), ('furniture/equipment', 58), '-')]\n"
     ]
    }
   ],
   "source": [
    "df_YoungAdults = df[df['Age_Group'] == 'Young Adults']\n",
    "print_stats(df_YoungAdults)"
   ]
  },
  {
   "cell_type": "code",
   "execution_count": 141,
   "metadata": {},
   "outputs": [
    {
     "output_type": "stream",
     "name": "stdout",
     "text": [
      "mean:  [1.9, 3366.4, 20.2]\n",
      "variance:  [0.4, 7986564.4, 146.1]\n",
      "\n",
      "\n",
      "[('own', 143), ('free', 40), ('rent', 20)]\n",
      "\n",
      "\n",
      "[('little', 117), ('moderate', 16), ('quite rich', 15)]\n",
      "\n",
      "\n",
      "[('little', 57), ('moderate', 39), ('rich', 15)]\n",
      "\n",
      "\n",
      "[('car', 79), ('radio/TV', 51), ('furniture/equipment', 36)]\n",
      "\n",
      "\n",
      "[('good', 150), ('bad', 53), '-']\n",
      "\n",
      "\n",
      "[(('own', 143), ('little', 117), ('little', 57), ('car', 79), ('good', 150)), (('free', 40), ('moderate', 16), ('moderate', 39), ('radio/TV', 51), ('bad', 53)), (('rent', 20), ('quite rich', 15), ('rich', 15), ('furniture/equipment', 36), '-')]\n"
     ]
    }
   ],
   "source": [
    "df_Senior = df[df['Age_Group'] == 'Senior']\n",
    "print_stats(df_Senior)"
   ]
  },
  {
   "cell_type": "code",
   "execution_count": 142,
   "metadata": {},
   "outputs": [
    {
     "output_type": "stream",
     "name": "stdout",
     "text": [
      "mean:  [1.8, 3430.4, 20.5]\nvariance:  [0.7, 13329819.2, 192.5]\n\n\n[('own', 44), ('free', 19), ('rent', 8)]\n\n\n[('little', 43), ('rich', 5), ('quite rich', 5)]\n\n\n[('little', 21), ('moderate', 18), ('rich', 6)]\n\n\n[('car', 28), ('radio/TV', 19), ('business', 9)]\n\n\n[('good', 52), ('bad', 19), '-']\n\n\n[(('own', 44), ('little', 43), ('little', 21), ('car', 28), ('good', 52)), (('free', 19), ('rich', 5), ('moderate', 18), ('radio/TV', 19), ('bad', 19)), (('rent', 8), ('quite rich', 5), ('rich', 6), ('business', 9), '-')]\n"
     ]
    }
   ],
   "source": [
    "df_Elder = df[df['Age_Group'] == 'Elder']\n",
    "print_stats(df_Elder)"
   ]
  },
  {
   "cell_type": "code",
   "execution_count": 143,
   "metadata": {},
   "outputs": [
    {
     "output_type": "stream",
     "name": "stdout",
     "text": [
      "27.7\n35.2\n36.9\n25.6\n26.1\n26.8\n"
     ]
    }
   ],
   "source": [
    "for group in [df_male, df_female, df_Young, df_YoungAdults, df_Senior, df_Elder]:\n",
    "    print(round(sum(group['Risk'] == 'bad')/len(group) * 100, 1))"
   ]
  }
 ]
}