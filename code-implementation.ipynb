{
 "cells": [
  {
   "cell_type": "markdown",
   "metadata": {},
   "source": [
    "# Coursework Assignment: Bias in AI"
   ]
  },
  {
   "cell_type": "markdown",
   "metadata": {},
   "source": [
    "Link to dataset used (given in 'Project Suggestions'): https://www.kaggle.com/kabure/german-credit-data-with-risk"
   ]
  },
  {
   "cell_type": "markdown",
   "metadata": {},
   "source": [
    "## Setup"
   ]
  },
  {
   "cell_type": "code",
   "execution_count": 263,
   "metadata": {},
   "outputs": [],
   "source": [
    "# imports\n",
    "import pandas as pd\n",
    "import numpy as np\n",
    "import seaborn as sns\n",
    "from matplotlib import pyplot as plt\n",
    "from random import randint"
   ]
  },
  {
   "cell_type": "code",
   "execution_count": 264,
   "metadata": {},
   "outputs": [],
   "source": [
    "# load the data\n",
    "df = pd.read_csv(\"./data/german_credit_data.csv\", index_col=0)\n",
    "\n",
    "# make a copy of the original data\n",
    "original_df = df.copy()"
   ]
  },
  {
   "cell_type": "code",
   "execution_count": 265,
   "metadata": {},
   "outputs": [
    {
     "output_type": "stream",
     "name": "stdout",
     "text": [
      "<class 'pandas.core.frame.DataFrame'>\nInt64Index: 1000 entries, 0 to 999\nData columns (total 10 columns):\n #   Column            Non-Null Count  Dtype \n---  ------            --------------  ----- \n 0   Age               1000 non-null   int64 \n 1   Sex               1000 non-null   object\n 2   Job               1000 non-null   int64 \n 3   Housing           1000 non-null   object\n 4   Saving accounts   817 non-null    object\n 5   Checking account  606 non-null    object\n 6   Credit amount     1000 non-null   int64 \n 7   Duration          1000 non-null   int64 \n 8   Purpose           1000 non-null   object\n 9   Risk              1000 non-null   object\ndtypes: int64(4), object(6)\nmemory usage: 85.9+ KB\n"
     ]
    }
   ],
   "source": [
    "df.info()"
   ]
  },
  {
   "cell_type": "code",
   "execution_count": 266,
   "metadata": {},
   "outputs": [
    {
     "output_type": "execute_result",
     "data": {
      "text/plain": [
       "               Age          Job  Credit amount     Duration\n",
       "count  1000.000000  1000.000000    1000.000000  1000.000000\n",
       "mean     35.546000     1.904000    3271.258000    20.903000\n",
       "std      11.375469     0.653614    2822.736876    12.058814\n",
       "min      19.000000     0.000000     250.000000     4.000000\n",
       "25%      27.000000     2.000000    1365.500000    12.000000\n",
       "50%      33.000000     2.000000    2319.500000    18.000000\n",
       "75%      42.000000     2.000000    3972.250000    24.000000\n",
       "max      75.000000     3.000000   18424.000000    72.000000"
      ],
      "text/html": "<div>\n<style scoped>\n    .dataframe tbody tr th:only-of-type {\n        vertical-align: middle;\n    }\n\n    .dataframe tbody tr th {\n        vertical-align: top;\n    }\n\n    .dataframe thead th {\n        text-align: right;\n    }\n</style>\n<table border=\"1\" class=\"dataframe\">\n  <thead>\n    <tr style=\"text-align: right;\">\n      <th></th>\n      <th>Age</th>\n      <th>Job</th>\n      <th>Credit amount</th>\n      <th>Duration</th>\n    </tr>\n  </thead>\n  <tbody>\n    <tr>\n      <th>count</th>\n      <td>1000.000000</td>\n      <td>1000.000000</td>\n      <td>1000.000000</td>\n      <td>1000.000000</td>\n    </tr>\n    <tr>\n      <th>mean</th>\n      <td>35.546000</td>\n      <td>1.904000</td>\n      <td>3271.258000</td>\n      <td>20.903000</td>\n    </tr>\n    <tr>\n      <th>std</th>\n      <td>11.375469</td>\n      <td>0.653614</td>\n      <td>2822.736876</td>\n      <td>12.058814</td>\n    </tr>\n    <tr>\n      <th>min</th>\n      <td>19.000000</td>\n      <td>0.000000</td>\n      <td>250.000000</td>\n      <td>4.000000</td>\n    </tr>\n    <tr>\n      <th>25%</th>\n      <td>27.000000</td>\n      <td>2.000000</td>\n      <td>1365.500000</td>\n      <td>12.000000</td>\n    </tr>\n    <tr>\n      <th>50%</th>\n      <td>33.000000</td>\n      <td>2.000000</td>\n      <td>2319.500000</td>\n      <td>18.000000</td>\n    </tr>\n    <tr>\n      <th>75%</th>\n      <td>42.000000</td>\n      <td>2.000000</td>\n      <td>3972.250000</td>\n      <td>24.000000</td>\n    </tr>\n    <tr>\n      <th>max</th>\n      <td>75.000000</td>\n      <td>3.000000</td>\n      <td>18424.000000</td>\n      <td>72.000000</td>\n    </tr>\n  </tbody>\n</table>\n</div>"
     },
     "metadata": {},
     "execution_count": 266
    }
   ],
   "source": [
    "df.describe()"
   ]
  },
  {
   "cell_type": "code",
   "execution_count": 267,
   "metadata": {},
   "outputs": [
    {
     "output_type": "execute_result",
     "data": {
      "text/plain": [
       "   Age     Sex  Job Housing Saving accounts Checking account  Credit amount  \\\n",
       "0   67    male    2     own             NaN           little           1169   \n",
       "1   22  female    2     own          little         moderate           5951   \n",
       "2   49    male    1     own          little              NaN           2096   \n",
       "3   45    male    2    free          little           little           7882   \n",
       "4   53    male    2    free          little           little           4870   \n",
       "\n",
       "   Duration              Purpose  Risk  \n",
       "0         6             radio/TV  good  \n",
       "1        48             radio/TV   bad  \n",
       "2        12            education  good  \n",
       "3        42  furniture/equipment  good  \n",
       "4        24                  car   bad  "
      ],
      "text/html": "<div>\n<style scoped>\n    .dataframe tbody tr th:only-of-type {\n        vertical-align: middle;\n    }\n\n    .dataframe tbody tr th {\n        vertical-align: top;\n    }\n\n    .dataframe thead th {\n        text-align: right;\n    }\n</style>\n<table border=\"1\" class=\"dataframe\">\n  <thead>\n    <tr style=\"text-align: right;\">\n      <th></th>\n      <th>Age</th>\n      <th>Sex</th>\n      <th>Job</th>\n      <th>Housing</th>\n      <th>Saving accounts</th>\n      <th>Checking account</th>\n      <th>Credit amount</th>\n      <th>Duration</th>\n      <th>Purpose</th>\n      <th>Risk</th>\n    </tr>\n  </thead>\n  <tbody>\n    <tr>\n      <th>0</th>\n      <td>67</td>\n      <td>male</td>\n      <td>2</td>\n      <td>own</td>\n      <td>NaN</td>\n      <td>little</td>\n      <td>1169</td>\n      <td>6</td>\n      <td>radio/TV</td>\n      <td>good</td>\n    </tr>\n    <tr>\n      <th>1</th>\n      <td>22</td>\n      <td>female</td>\n      <td>2</td>\n      <td>own</td>\n      <td>little</td>\n      <td>moderate</td>\n      <td>5951</td>\n      <td>48</td>\n      <td>radio/TV</td>\n      <td>bad</td>\n    </tr>\n    <tr>\n      <th>2</th>\n      <td>49</td>\n      <td>male</td>\n      <td>1</td>\n      <td>own</td>\n      <td>little</td>\n      <td>NaN</td>\n      <td>2096</td>\n      <td>12</td>\n      <td>education</td>\n      <td>good</td>\n    </tr>\n    <tr>\n      <th>3</th>\n      <td>45</td>\n      <td>male</td>\n      <td>2</td>\n      <td>free</td>\n      <td>little</td>\n      <td>little</td>\n      <td>7882</td>\n      <td>42</td>\n      <td>furniture/equipment</td>\n      <td>good</td>\n    </tr>\n    <tr>\n      <th>4</th>\n      <td>53</td>\n      <td>male</td>\n      <td>2</td>\n      <td>free</td>\n      <td>little</td>\n      <td>little</td>\n      <td>4870</td>\n      <td>24</td>\n      <td>car</td>\n      <td>bad</td>\n    </tr>\n  </tbody>\n</table>\n</div>"
     },
     "metadata": {},
     "execution_count": 267
    }
   ],
   "source": [
    "df.head()"
   ]
  },
  {
   "cell_type": "markdown",
   "metadata": {},
   "source": [
    "## Data analysis"
   ]
  },
  {
   "cell_type": "code",
   "execution_count": 268,
   "metadata": {},
   "outputs": [
    {
     "output_type": "execute_result",
     "data": {
      "text/plain": [
       "   Age     Sex  Job Housing Saving accounts Checking account  Credit amount  \\\n",
       "0   67    male    2     own             NaN           little           1169   \n",
       "1   22  female    2     own          little         moderate           5951   \n",
       "2   49    male    1     own          little              NaN           2096   \n",
       "3   45    male    2    free          little           little           7882   \n",
       "4   53    male    2    free          little           little           4870   \n",
       "\n",
       "   Duration              Purpose  Risk  Age_Group  \n",
       "0         6             radio/TV  good        NaN  \n",
       "1        48             radio/TV   bad        NaN  \n",
       "2        12            education  good        NaN  \n",
       "3        42  furniture/equipment  good        NaN  \n",
       "4        24                  car   bad        NaN  "
      ],
      "text/html": "<div>\n<style scoped>\n    .dataframe tbody tr th:only-of-type {\n        vertical-align: middle;\n    }\n\n    .dataframe tbody tr th {\n        vertical-align: top;\n    }\n\n    .dataframe thead th {\n        text-align: right;\n    }\n</style>\n<table border=\"1\" class=\"dataframe\">\n  <thead>\n    <tr style=\"text-align: right;\">\n      <th></th>\n      <th>Age</th>\n      <th>Sex</th>\n      <th>Job</th>\n      <th>Housing</th>\n      <th>Saving accounts</th>\n      <th>Checking account</th>\n      <th>Credit amount</th>\n      <th>Duration</th>\n      <th>Purpose</th>\n      <th>Risk</th>\n      <th>Age_Group</th>\n    </tr>\n  </thead>\n  <tbody>\n    <tr>\n      <th>0</th>\n      <td>67</td>\n      <td>male</td>\n      <td>2</td>\n      <td>own</td>\n      <td>NaN</td>\n      <td>little</td>\n      <td>1169</td>\n      <td>6</td>\n      <td>radio/TV</td>\n      <td>good</td>\n      <td>NaN</td>\n    </tr>\n    <tr>\n      <th>1</th>\n      <td>22</td>\n      <td>female</td>\n      <td>2</td>\n      <td>own</td>\n      <td>little</td>\n      <td>moderate</td>\n      <td>5951</td>\n      <td>48</td>\n      <td>radio/TV</td>\n      <td>bad</td>\n      <td>NaN</td>\n    </tr>\n    <tr>\n      <th>2</th>\n      <td>49</td>\n      <td>male</td>\n      <td>1</td>\n      <td>own</td>\n      <td>little</td>\n      <td>NaN</td>\n      <td>2096</td>\n      <td>12</td>\n      <td>education</td>\n      <td>good</td>\n      <td>NaN</td>\n    </tr>\n    <tr>\n      <th>3</th>\n      <td>45</td>\n      <td>male</td>\n      <td>2</td>\n      <td>free</td>\n      <td>little</td>\n      <td>little</td>\n      <td>7882</td>\n      <td>42</td>\n      <td>furniture/equipment</td>\n      <td>good</td>\n      <td>NaN</td>\n    </tr>\n    <tr>\n      <th>4</th>\n      <td>53</td>\n      <td>male</td>\n      <td>2</td>\n      <td>free</td>\n      <td>little</td>\n      <td>little</td>\n      <td>4870</td>\n      <td>24</td>\n      <td>car</td>\n      <td>bad</td>\n      <td>NaN</td>\n    </tr>\n  </tbody>\n</table>\n</div>"
     },
     "metadata": {},
     "execution_count": 268
    }
   ],
   "source": [
    "# create age group column\n",
    "df['Age_Group'] = np.nan\n",
    "\n",
    "df.head()"
   ]
  },
  {
   "cell_type": "code",
   "execution_count": 269,
   "metadata": {},
   "outputs": [
    {
     "output_type": "stream",
     "name": "stdout",
     "text": [
      "     Age     Sex  Job Housing Saving accounts Checking account  Credit amount  \\\n0     67    male    2     own             NaN           little           1169   \n1     22  female    2     own          little         moderate           5951   \n2     49    male    1     own          little              NaN           2096   \n3     45    male    2    free          little           little           7882   \n4     53    male    2    free          little           little           4870   \n..   ...     ...  ...     ...             ...              ...            ...   \n995   31  female    1     own          little              NaN           1736   \n996   40    male    3     own          little           little           3857   \n997   38    male    2     own          little              NaN            804   \n998   23    male    2    free          little           little           1845   \n999   27    male    2     own        moderate         moderate           4576   \n\n     Duration              Purpose  Risk  Age_Group  \n0           6             radio/TV  good        NaN  \n1          48             radio/TV   bad        NaN  \n2          12            education  good        NaN  \n3          42  furniture/equipment  good        NaN  \n4          24                  car   bad        NaN  \n..        ...                  ...   ...        ...  \n995        12  furniture/equipment  good        NaN  \n996        30                  car  good        NaN  \n997        12             radio/TV  good        NaN  \n998        45             radio/TV   bad        NaN  \n999        45                  car  good        NaN  \n\n[1000 rows x 11 columns]\n"
     ]
    }
   ],
   "source": [
    "for col in [df]:\n",
    "    print(col)"
   ]
  },
  {
   "cell_type": "code",
   "execution_count": 270,
   "metadata": {},
   "outputs": [
    {
     "output_type": "execute_result",
     "data": {
      "text/plain": [
       "   Age     Sex  Job Housing Saving accounts Checking account  Credit amount  \\\n",
       "0   67    male    2     own             NaN           little           1169   \n",
       "1   22  female    2     own          little         moderate           5951   \n",
       "2   49    male    1     own          little              NaN           2096   \n",
       "3   45    male    2    free          little           little           7882   \n",
       "4   53    male    2    free          little           little           4870   \n",
       "\n",
       "   Duration              Purpose  Risk Age_Group  \n",
       "0         6             radio/TV  good     Elder  \n",
       "1        48             radio/TV   bad     Young  \n",
       "2        12            education  good    Senior  \n",
       "3        42  furniture/equipment  good    Senior  \n",
       "4        24                  car   bad    Senior  "
      ],
      "text/html": "<div>\n<style scoped>\n    .dataframe tbody tr th:only-of-type {\n        vertical-align: middle;\n    }\n\n    .dataframe tbody tr th {\n        vertical-align: top;\n    }\n\n    .dataframe thead th {\n        text-align: right;\n    }\n</style>\n<table border=\"1\" class=\"dataframe\">\n  <thead>\n    <tr style=\"text-align: right;\">\n      <th></th>\n      <th>Age</th>\n      <th>Sex</th>\n      <th>Job</th>\n      <th>Housing</th>\n      <th>Saving accounts</th>\n      <th>Checking account</th>\n      <th>Credit amount</th>\n      <th>Duration</th>\n      <th>Purpose</th>\n      <th>Risk</th>\n      <th>Age_Group</th>\n    </tr>\n  </thead>\n  <tbody>\n    <tr>\n      <th>0</th>\n      <td>67</td>\n      <td>male</td>\n      <td>2</td>\n      <td>own</td>\n      <td>NaN</td>\n      <td>little</td>\n      <td>1169</td>\n      <td>6</td>\n      <td>radio/TV</td>\n      <td>good</td>\n      <td>Elder</td>\n    </tr>\n    <tr>\n      <th>1</th>\n      <td>22</td>\n      <td>female</td>\n      <td>2</td>\n      <td>own</td>\n      <td>little</td>\n      <td>moderate</td>\n      <td>5951</td>\n      <td>48</td>\n      <td>radio/TV</td>\n      <td>bad</td>\n      <td>Young</td>\n    </tr>\n    <tr>\n      <th>2</th>\n      <td>49</td>\n      <td>male</td>\n      <td>1</td>\n      <td>own</td>\n      <td>little</td>\n      <td>NaN</td>\n      <td>2096</td>\n      <td>12</td>\n      <td>education</td>\n      <td>good</td>\n      <td>Senior</td>\n    </tr>\n    <tr>\n      <th>3</th>\n      <td>45</td>\n      <td>male</td>\n      <td>2</td>\n      <td>free</td>\n      <td>little</td>\n      <td>little</td>\n      <td>7882</td>\n      <td>42</td>\n      <td>furniture/equipment</td>\n      <td>good</td>\n      <td>Senior</td>\n    </tr>\n    <tr>\n      <th>4</th>\n      <td>53</td>\n      <td>male</td>\n      <td>2</td>\n      <td>free</td>\n      <td>little</td>\n      <td>little</td>\n      <td>4870</td>\n      <td>24</td>\n      <td>car</td>\n      <td>bad</td>\n      <td>Senior</td>\n    </tr>\n  </tbody>\n</table>\n</div>"
     },
     "metadata": {},
     "execution_count": 270
    }
   ],
   "source": [
    "# populate age group column\n",
    "for col in [df]:\n",
    "    col.loc[(col['Age'] > 18) & (col['Age'] <= 29), 'Age_Group'] = 'Young'\n",
    "    col.loc[(col['Age'] > 29) & (col['Age'] <= 40), 'Age_Group'] = 'Young Adults'\n",
    "    col.loc[(col['Age'] > 40) & (col['Age'] <= 55), 'Age_Group'] = 'Senior'\n",
    "    col.loc[col['Age'] > 55, 'Age_Group'] = 'Elder' \n",
    "    \n",
    "df.head()"
   ]
  },
  {
   "cell_type": "code",
   "execution_count": 271,
   "metadata": {},
   "outputs": [
    {
     "output_type": "execute_result",
     "data": {
      "text/plain": [
       "male      690\n",
       "female    310\n",
       "Name: Sex, dtype: int64"
      ]
     },
     "metadata": {},
     "execution_count": 271
    }
   ],
   "source": [
    "df['Sex'].value_counts()"
   ]
  },
  {
   "cell_type": "code",
   "execution_count": 272,
   "metadata": {},
   "outputs": [
    {
     "output_type": "execute_result",
     "data": {
      "text/plain": [
       "Young           371\n",
       "Young Adults    355\n",
       "Senior          203\n",
       "Elder            71\n",
       "Name: Age_Group, dtype: int64"
      ]
     },
     "metadata": {},
     "execution_count": 272
    }
   ],
   "source": [
    "df['Age_Group'].value_counts()"
   ]
  },
  {
   "cell_type": "code",
   "execution_count": 273,
   "metadata": {},
   "outputs": [],
   "source": [
    "def print_stats(df):\n",
    "    print('mean: ', [round(num, 1) for num in list(df.mean())[1:]])\n",
    "    print('variance: ', [round(num, 1) for num in list(df.var())[1:]])\n",
    "    print('\\n')\n",
    "    zips = []\n",
    "    for col in ['Housing', 'Saving accounts', 'Checking account',\n",
    "       'Purpose', 'Risk']:\n",
    "       vals = df[col].value_counts().values\n",
    "       inds = df[col].value_counts().index\n",
    "       z = list(zip(inds, vals))[:3]\n",
    "       if col == 'Risk':\n",
    "           z.append('-')\n",
    "       zips.append(z)\n",
    "       print(z)\n",
    "       print('\\n')\n",
    "    print(list(zip(zips[0], zips[1], zips[2], zips[3], zips[4])))"
   ]
  },
  {
   "cell_type": "code",
   "execution_count": 274,
   "metadata": {},
   "outputs": [
    {
     "output_type": "stream",
     "name": "stdout",
     "text": [
      "mean:  [1.9, 3448.0, 21.6]\nvariance:  [0.4, 8412806.3, 154.7]\n\n\n[('own', 517), ('free', 89), ('rent', 84)]\n\n\n[('little', 409), ('moderate', 71), ('quite rich', 47)]\n\n\n[('little', 186), ('moderate', 183), ('rich', 43)]\n\n\n[('car', 243), ('radio/TV', 195), ('furniture/equipment', 107)]\n\n\n[('good', 499), ('bad', 191), '-']\n\n\n[(('own', 517), ('little', 409), ('little', 186), ('car', 243), ('good', 499)), (('free', 89), ('moderate', 71), ('moderate', 183), ('radio/TV', 195), ('bad', 191)), (('rent', 84), ('quite rich', 47), ('rich', 43), ('furniture/equipment', 107), '-')]\n"
     ]
    }
   ],
   "source": [
    "df_male = df[df['Sex'] == 'male']\n",
    "print_stats(df_male)"
   ]
  },
  {
   "cell_type": "code",
   "execution_count": 275,
   "metadata": {},
   "outputs": [
    {
     "output_type": "stream",
     "name": "stdout",
     "text": [
      "mean:  [1.8, 2877.8, 19.4]\nvariance:  [0.5, 6776346.3, 122.1]\n\n\n[('own', 196), ('rent', 95), ('free', 19)]\n\n\n[('little', 194), ('moderate', 32), ('rich', 19)]\n\n\n[('little', 88), ('moderate', 86), ('rich', 20)]\n\n\n[('car', 94), ('radio/TV', 85), ('furniture/equipment', 74)]\n\n\n[('good', 201), ('bad', 109), '-']\n\n\n[(('own', 196), ('little', 194), ('little', 88), ('car', 94), ('good', 201)), (('rent', 95), ('moderate', 32), ('moderate', 86), ('radio/TV', 85), ('bad', 109)), (('free', 19), ('rich', 19), ('rich', 20), ('furniture/equipment', 74), '-')]\n"
     ]
    }
   ],
   "source": [
    "df_female = df[df['Sex'] == 'female']\n",
    "print_stats(df_female)"
   ]
  },
  {
   "cell_type": "code",
   "execution_count": 276,
   "metadata": {},
   "outputs": [
    {
     "output_type": "stream",
     "name": "stdout",
     "text": [
      "mean:  [1.8, 3089.0, 20.8]\nvariance:  [0.3, 7261837.7, 142.6]\n\n\n[('own', 248), ('rent', 113), ('free', 10)]\n\n\n[('little', 242), ('moderate', 42), ('quite rich', 19)]\n\n\n[('little', 115), ('moderate', 112), ('rich', 24)]\n\n\n[('radio/TV', 117), ('car', 102), ('furniture/equipment', 84)]\n\n\n[('good', 234), ('bad', 137), '-']\n\n\n[(('own', 248), ('little', 242), ('little', 115), ('radio/TV', 117), ('good', 234)), (('rent', 113), ('moderate', 42), ('moderate', 112), ('car', 102), ('bad', 137)), (('free', 10), ('quite rich', 19), ('rich', 24), ('furniture/equipment', 84), '-')]\n"
     ]
    }
   ],
   "source": [
    "df_Young = df[df['Age_Group'] == 'Young']\n",
    "print_stats(df_Young)"
   ]
  },
  {
   "cell_type": "code",
   "execution_count": 277,
   "metadata": {},
   "outputs": [
    {
     "output_type": "stream",
     "name": "stdout",
     "text": [
      "mean:  [2.0, 3375.5, 21.5]\nvariance:  [0.4, 7646336.1, 139.2]\n\n\n[('own', 278), ('free', 39), ('rent', 38)]\n\n\n[('little', 201), ('moderate', 41), ('quite rich', 24)]\n\n\n[('moderate', 100), ('little', 81), ('rich', 18)]\n\n\n[('car', 128), ('radio/TV', 93), ('furniture/equipment', 58)]\n\n\n[('good', 264), ('bad', 91), '-']\n\n\n[(('own', 278), ('little', 201), ('moderate', 100), ('car', 128), ('good', 264)), (('free', 39), ('moderate', 41), ('little', 81), ('radio/TV', 93), ('bad', 91)), (('rent', 38), ('quite rich', 24), ('rich', 18), ('furniture/equipment', 58), '-')]\n"
     ]
    }
   ],
   "source": [
    "df_YoungAdults = df[df['Age_Group'] == 'Young Adults']\n",
    "print_stats(df_YoungAdults)"
   ]
  },
  {
   "cell_type": "code",
   "execution_count": 278,
   "metadata": {},
   "outputs": [
    {
     "output_type": "stream",
     "name": "stdout",
     "text": [
      "mean:  [1.9, 3366.4, 20.2]\nvariance:  [0.4, 7986564.4, 146.1]\n\n\n[('own', 143), ('free', 40), ('rent', 20)]\n\n\n[('little', 117), ('moderate', 16), ('quite rich', 15)]\n\n\n[('little', 57), ('moderate', 39), ('rich', 15)]\n\n\n[('car', 79), ('radio/TV', 51), ('furniture/equipment', 36)]\n\n\n[('good', 150), ('bad', 53), '-']\n\n\n[(('own', 143), ('little', 117), ('little', 57), ('car', 79), ('good', 150)), (('free', 40), ('moderate', 16), ('moderate', 39), ('radio/TV', 51), ('bad', 53)), (('rent', 20), ('quite rich', 15), ('rich', 15), ('furniture/equipment', 36), '-')]\n"
     ]
    }
   ],
   "source": [
    "df_Senior = df[df['Age_Group'] == 'Senior']\n",
    "print_stats(df_Senior)"
   ]
  },
  {
   "cell_type": "code",
   "execution_count": 279,
   "metadata": {},
   "outputs": [
    {
     "output_type": "stream",
     "name": "stdout",
     "text": [
      "mean:  [1.8, 3430.4, 20.5]\nvariance:  [0.7, 13329819.2, 192.5]\n\n\n[('own', 44), ('free', 19), ('rent', 8)]\n\n\n[('little', 43), ('rich', 5), ('quite rich', 5)]\n\n\n[('little', 21), ('moderate', 18), ('rich', 6)]\n\n\n[('car', 28), ('radio/TV', 19), ('business', 9)]\n\n\n[('good', 52), ('bad', 19), '-']\n\n\n[(('own', 44), ('little', 43), ('little', 21), ('car', 28), ('good', 52)), (('free', 19), ('rich', 5), ('moderate', 18), ('radio/TV', 19), ('bad', 19)), (('rent', 8), ('quite rich', 5), ('rich', 6), ('business', 9), '-')]\n"
     ]
    }
   ],
   "source": [
    "df_Elder = df[df['Age_Group'] == 'Elder']\n",
    "print_stats(df_Elder)"
   ]
  },
  {
   "cell_type": "code",
   "execution_count": 280,
   "metadata": {},
   "outputs": [
    {
     "output_type": "stream",
     "name": "stdout",
     "text": [
      "27.7\n35.2\n36.9\n25.6\n26.1\n26.8\n"
     ]
    }
   ],
   "source": [
    "for group in [df_male, df_female, df_Young, df_YoungAdults, df_Senior, df_Elder]:\n",
    "    print(round(sum(group['Risk'] == 'bad')/len(group) * 100, 1))"
   ]
  },
  {
   "cell_type": "markdown",
   "metadata": {},
   "source": [
    "## Conventional Implementation"
   ]
  },
  {
   "cell_type": "markdown",
   "metadata": {},
   "source": [
    "### Data cleaning"
   ]
  },
  {
   "cell_type": "code",
   "execution_count": 281,
   "metadata": {},
   "outputs": [
    {
     "output_type": "execute_result",
     "data": {
      "text/plain": [
       "Checking account    394\n",
       "Saving accounts     183\n",
       "Age                   0\n",
       "Sex                   0\n",
       "Job                   0\n",
       "Housing               0\n",
       "Credit amount         0\n",
       "Duration              0\n",
       "Purpose               0\n",
       "Risk                  0\n",
       "Age_Group             0\n",
       "dtype: int64"
      ]
     },
     "metadata": {},
     "execution_count": 281
    }
   ],
   "source": [
    "# Check missing values in our dataframe\n",
    "df.isnull().sum().sort_values(ascending=False)"
   ]
  },
  {
   "cell_type": "code",
   "execution_count": 282,
   "metadata": {},
   "outputs": [],
   "source": [
    "df.drop(['Checking account', 'Saving accounts'], axis=1, inplace=True)"
   ]
  },
  {
   "cell_type": "code",
   "execution_count": 283,
   "metadata": {},
   "outputs": [
    {
     "output_type": "execute_result",
     "data": {
      "text/plain": [
       "Age              0\n",
       "Sex              0\n",
       "Job              0\n",
       "Housing          0\n",
       "Credit amount    0\n",
       "Duration         0\n",
       "Purpose          0\n",
       "Risk             0\n",
       "Age_Group        0\n",
       "dtype: int64"
      ]
     },
     "metadata": {},
     "execution_count": 283
    }
   ],
   "source": [
    "df.isnull().sum().sort_values(ascending=False)"
   ]
  },
  {
   "cell_type": "code",
   "execution_count": 284,
   "metadata": {},
   "outputs": [
    {
     "output_type": "execute_result",
     "data": {
      "text/plain": [
       "   Age     Sex  Job Housing  Credit amount  Duration              Purpose  \\\n",
       "0   67    male    2     own           1169         6             radio/TV   \n",
       "1   22  female    2     own           5951        48             radio/TV   \n",
       "2   49    male    1     own           2096        12            education   \n",
       "3   45    male    2    free           7882        42  furniture/equipment   \n",
       "4   53    male    2    free           4870        24                  car   \n",
       "\n",
       "  Age_Group  \n",
       "0     Elder  \n",
       "1     Young  \n",
       "2    Senior  \n",
       "3    Senior  \n",
       "4    Senior  "
      ],
      "text/html": "<div>\n<style scoped>\n    .dataframe tbody tr th:only-of-type {\n        vertical-align: middle;\n    }\n\n    .dataframe tbody tr th {\n        vertical-align: top;\n    }\n\n    .dataframe thead th {\n        text-align: right;\n    }\n</style>\n<table border=\"1\" class=\"dataframe\">\n  <thead>\n    <tr style=\"text-align: right;\">\n      <th></th>\n      <th>Age</th>\n      <th>Sex</th>\n      <th>Job</th>\n      <th>Housing</th>\n      <th>Credit amount</th>\n      <th>Duration</th>\n      <th>Purpose</th>\n      <th>Age_Group</th>\n    </tr>\n  </thead>\n  <tbody>\n    <tr>\n      <th>0</th>\n      <td>67</td>\n      <td>male</td>\n      <td>2</td>\n      <td>own</td>\n      <td>1169</td>\n      <td>6</td>\n      <td>radio/TV</td>\n      <td>Elder</td>\n    </tr>\n    <tr>\n      <th>1</th>\n      <td>22</td>\n      <td>female</td>\n      <td>2</td>\n      <td>own</td>\n      <td>5951</td>\n      <td>48</td>\n      <td>radio/TV</td>\n      <td>Young</td>\n    </tr>\n    <tr>\n      <th>2</th>\n      <td>49</td>\n      <td>male</td>\n      <td>1</td>\n      <td>own</td>\n      <td>2096</td>\n      <td>12</td>\n      <td>education</td>\n      <td>Senior</td>\n    </tr>\n    <tr>\n      <th>3</th>\n      <td>45</td>\n      <td>male</td>\n      <td>2</td>\n      <td>free</td>\n      <td>7882</td>\n      <td>42</td>\n      <td>furniture/equipment</td>\n      <td>Senior</td>\n    </tr>\n    <tr>\n      <th>4</th>\n      <td>53</td>\n      <td>male</td>\n      <td>2</td>\n      <td>free</td>\n      <td>4870</td>\n      <td>24</td>\n      <td>car</td>\n      <td>Senior</td>\n    </tr>\n  </tbody>\n</table>\n</div>"
     },
     "metadata": {},
     "execution_count": 284
    }
   ],
   "source": [
    "# Create set of only independant variables by dropping Risk\n",
    "X = df.drop(['Risk'], axis=1)\n",
    "X.head()"
   ]
  },
  {
   "cell_type": "code",
   "execution_count": 285,
   "metadata": {},
   "outputs": [
    {
     "output_type": "execute_result",
     "data": {
      "text/plain": [
       "0    good\n",
       "1     bad\n",
       "2    good\n",
       "3    good\n",
       "4     bad\n",
       "Name: Risk, dtype: object"
      ]
     },
     "metadata": {},
     "execution_count": 285
    }
   ],
   "source": [
    "# Create a series of outcome variable only\n",
    "y = df['Risk']\n",
    "y.head()"
   ]
  },
  {
   "cell_type": "markdown",
   "metadata": {},
   "source": [
    "### Naive split"
   ]
  },
  {
   "cell_type": "code",
   "execution_count": 286,
   "metadata": {},
   "outputs": [],
   "source": [
    "# split datasets into training and test subsets for both X and y using sklearn\n",
    "from sklearn.model_selection import train_test_split\n",
    "X_train, X_test, y_train, y_test = train_test_split(X, y, test_size=1/3, random_state=5)"
   ]
  },
  {
   "cell_type": "code",
   "execution_count": 287,
   "metadata": {},
   "outputs": [],
   "source": [
    "from sklearn.base import BaseEstimator, TransformerMixin\n",
    "from sklearn.utils import check_array\n",
    "from sklearn.preprocessing import LabelEncoder\n",
    "from scipy import sparse\n",
    "\n",
    "class CategoricalEncoder(BaseEstimator, TransformerMixin):\n",
    "    def __init__(self, encoding='onehot', categories='auto', dtype=np.float64,\n",
    "                 handle_unknown='error'):\n",
    "        self.encoding = encoding\n",
    "        self.categories = categories\n",
    "        self.dtype = dtype\n",
    "        self.handle_unknown = handle_unknown\n",
    "\n",
    "    def fit(self, X, y=None):\n",
    "        if self.encoding not in ['onehot', 'onehot-dense', 'ordinal']:\n",
    "            template = (\"encoding should be either 'onehot', 'onehot-dense' \"\n",
    "                        \"or 'ordinal', got %s\")\n",
    "            raise ValueError(template % self.handle_unknown)\n",
    "\n",
    "        if self.handle_unknown not in ['error', 'ignore']:\n",
    "            template = (\"handle_unknown should be either 'error' or \"\n",
    "                        \"'ignore', got %s\")\n",
    "            raise ValueError(template % self.handle_unknown)\n",
    "\n",
    "        if self.encoding == 'ordinal' and self.handle_unknown == 'ignore':\n",
    "            raise ValueError(\"handle_unknown='ignore' is not supported for\"\n",
    "                             \" encoding='ordinal'\")\n",
    "\n",
    "        X = check_array(X, dtype=np.object, accept_sparse='csc', copy=True)\n",
    "        n_samples, n_features = X.shape\n",
    "\n",
    "        self._label_encoders_ = [LabelEncoder() for _ in range(n_features)]\n",
    "\n",
    "        for i in range(n_features):\n",
    "            le = self._label_encoders_[i]\n",
    "            Xi = X[:, i]\n",
    "            if self.categories == 'auto':\n",
    "                le.fit(Xi)\n",
    "            else:\n",
    "                valid_mask = np.in1d(Xi, self.categories[i])\n",
    "                if not np.all(valid_mask):\n",
    "                    if self.handle_unknown == 'error':\n",
    "                        diff = np.unique(Xi[~valid_mask])\n",
    "                        msg = (\"Found unknown categories {0} in column {1}\"\n",
    "                               \" during fit\".format(diff, i))\n",
    "                        raise ValueError(msg)\n",
    "                le.classes_ = np.array(np.sort(self.categories[i]))\n",
    "\n",
    "        self.categories_ = [le.classes_ for le in self._label_encoders_]\n",
    "\n",
    "        return self\n",
    "\n",
    "    def transform(self, X):\n",
    "        X = check_array(X, accept_sparse='csc', dtype=np.object, copy=True)\n",
    "        n_samples, n_features = X.shape\n",
    "        X_int = np.zeros_like(X, dtype=np.int)\n",
    "        X_mask = np.ones_like(X, dtype=np.bool)\n",
    "\n",
    "        for i in range(n_features):\n",
    "            valid_mask = np.in1d(X[:, i], self.categories_[i])\n",
    "\n",
    "            if not np.all(valid_mask):\n",
    "                if self.handle_unknown == 'error':\n",
    "                    diff = np.unique(X[~valid_mask, i])\n",
    "                    msg = (\"Found unknown categories {0} in column {1}\"\n",
    "                           \" during transform\".format(diff, i))\n",
    "                    raise ValueError(msg)\n",
    "                else:\n",
    "                    # Set the problematic rows to an acceptable value and\n",
    "                    # continue `The rows are marked `X_mask` and will be\n",
    "                    # removed later.\n",
    "                    X_mask[:, i] = valid_mask\n",
    "                    X[:, i][~valid_mask] = self.categories_[i][0]\n",
    "            X_int[:, i] = self._label_encoders_[i].transform(X[:, i])\n",
    "\n",
    "        if self.encoding == 'ordinal':\n",
    "            return X_int.astype(self.dtype, copy=False)\n",
    "\n",
    "        mask = X_mask.ravel()\n",
    "        n_values = [cats.shape[0] for cats in self.categories_]\n",
    "        n_values = np.array([0] + n_values)\n",
    "        indices = np.cumsum(n_values)\n",
    "\n",
    "        column_indices = (X_int + indices[:-1]).ravel()[mask]\n",
    "        row_indices = np.repeat(np.arange(n_samples, dtype=np.int32),\n",
    "                                n_features)[mask]\n",
    "        data = np.ones(n_samples * n_features)[mask]\n",
    "\n",
    "        out = sparse.csc_matrix((data, (row_indices, column_indices)),\n",
    "                                shape=(n_samples, indices[-1]),\n",
    "                                dtype=self.dtype).tocsr()\n",
    "        if self.encoding == 'onehot-dense':\n",
    "            return out.toarray()\n",
    "        else:\n",
    "            return out"
   ]
  },
  {
   "cell_type": "code",
   "execution_count": 288,
   "metadata": {},
   "outputs": [],
   "source": [
    "# Scikit-Learn does not handle dataframes in pipeline so we will create our own class.\n",
    "# Reference: Hands-On Machine Learning\n",
    "from sklearn.base import BaseEstimator, TransformerMixin\n",
    "# Create a class to select numerical or cateogrical columns.\n",
    "class DataFrameSelector(BaseEstimator, TransformerMixin):\n",
    "    def __init__(self, attribute_names):\n",
    "        self.attribute_names = attribute_names\n",
    "    def fit (self, X, y=None):\n",
    "        return self\n",
    "    def transform(self, X):\n",
    "        return X[self.attribute_names].values"
   ]
  },
  {
   "cell_type": "code",
   "execution_count": 289,
   "metadata": {},
   "outputs": [],
   "source": [
    "from sklearn.pipeline import Pipeline, FeatureUnion\n",
    "from sklearn.preprocessing import StandardScaler\n",
    "\n",
    "numeric_train_df = X_train.select_dtypes(exclude=['object'])\n",
    "numeric_test_df = X_test.select_dtypes(exclude=['object'])\n",
    "\n",
    "categorical_train_df = X_train.select_dtypes(['object'])\n",
    "categorical_test_df = X_test.select_dtypes(['object'])\n",
    "\n",
    "numerical_pipeline = Pipeline([\n",
    "    (\"select_numeric\", DataFrameSelector(numeric_train_df.columns.values.tolist())),\n",
    "    (\"std_scaler\", StandardScaler()),\n",
    "])\n",
    "\n",
    "categorical_pipeline = Pipeline([\n",
    "    ('select_categoric', DataFrameSelector(categorical_train_df.columns.values.tolist())),\n",
    "    ('encoding', CategoricalEncoder(encoding='onehot-dense'))\n",
    "])\n",
    "\n",
    "# Combine both pipelines\n",
    "main_pipeline = FeatureUnion(transformer_list=[\n",
    "    ('num_pipeline', numerical_pipeline),\n",
    "    ('cat_pipeline', categorical_pipeline)\n",
    "])\n",
    "\n",
    "X_train_scaled = main_pipeline.fit_transform(X_train)\n",
    "X_test_scaled = main_pipeline.fit_transform(X_test)"
   ]
  },
  {
   "cell_type": "code",
   "execution_count": 290,
   "metadata": {},
   "outputs": [],
   "source": [
    "from sklearn.preprocessing import LabelEncoder\n",
    "\n",
    "encode = LabelEncoder()\n",
    "y_train_scaled = encode.fit_transform(y_train)\n",
    "y_test_scaled = encode.fit_transform(y_test)"
   ]
  },
  {
   "cell_type": "code",
   "execution_count": 291,
   "metadata": {},
   "outputs": [
    {
     "output_type": "execute_result",
     "data": {
      "text/plain": [
       "GridSearchCV(estimator=SVC(random_state=42),\n",
       "             param_grid={'C': [0.75, 0.85, 0.95, 1], 'degree': [3, 4, 5],\n",
       "                         'kernel': ['linear', 'poly', 'rbf', 'sigmoid']})"
      ]
     },
     "metadata": {},
     "execution_count": 291
    }
   ],
   "source": [
    "from sklearn.svm import SVC\n",
    "from sklearn.model_selection import GridSearchCV\n",
    "\n",
    "# Implement gridsearchcv to see which are our best p\n",
    "\n",
    "params = {'C': [0.75, 0.85, 0.95, 1], 'kernel': ['linear', 'poly', 'rbf', 'sigmoid'], 'degree': [3, 4, 5]}\n",
    "\n",
    "svc_clf = SVC(random_state=42)\n",
    "\n",
    "grid_search_cv = GridSearchCV(svc_clf, params)\n",
    "grid_search_cv.fit(X_train_scaled, y_train_scaled)"
   ]
  },
  {
   "cell_type": "code",
   "execution_count": 292,
   "metadata": {},
   "outputs": [
    {
     "output_type": "execute_result",
     "data": {
      "text/plain": [
       "SVC(C=0.95, degree=4, kernel='poly', random_state=42)"
      ]
     },
     "metadata": {},
     "execution_count": 292
    }
   ],
   "source": [
    "grid_search_cv.best_estimator_"
   ]
  },
  {
   "cell_type": "code",
   "execution_count": 293,
   "metadata": {},
   "outputs": [
    {
     "output_type": "execute_result",
     "data": {
      "text/plain": [
       "{'C': 0.95, 'degree': 4, 'kernel': 'poly'}"
      ]
     },
     "metadata": {},
     "execution_count": 293
    }
   ],
   "source": [
    "grid_search_cv.best_params_\n"
   ]
  },
  {
   "cell_type": "code",
   "execution_count": 294,
   "metadata": {},
   "outputs": [
    {
     "output_type": "execute_result",
     "data": {
      "text/plain": [
       "SVC(C=0.95, degree=4, kernel='poly', random_state=42)"
      ]
     },
     "metadata": {},
     "execution_count": 294
    }
   ],
   "source": [
    "svc_clf = grid_search_cv.best_estimator_\n",
    "svc_clf.fit(X_train_scaled, y_train_scaled)"
   ]
  },
  {
   "cell_type": "code",
   "execution_count": 295,
   "metadata": {},
   "outputs": [
    {
     "output_type": "execute_result",
     "data": {
      "text/plain": [
       "0.8078078078078078"
      ]
     },
     "metadata": {},
     "execution_count": 295
    }
   ],
   "source": [
    "svc_clf.score(X_train_scaled, y_train_scaled)"
   ]
  },
  {
   "cell_type": "code",
   "execution_count": 296,
   "metadata": {},
   "outputs": [
    {
     "output_type": "execute_result",
     "data": {
      "text/plain": [
       "0.7026820783301537"
      ]
     },
     "metadata": {},
     "execution_count": 296
    }
   ],
   "source": [
    "from sklearn.model_selection import cross_val_score\n",
    "\n",
    "# Let's make sure the data is not overfitting\n",
    "svc_clf = SVC(kernel='rbf', C=1, random_state=42)\n",
    "scores = cross_val_score(svc_clf, X_train_scaled, y_train_scaled)\n",
    "scores.mean()"
   ]
  },
  {
   "cell_type": "code",
   "execution_count": 297,
   "metadata": {},
   "outputs": [
    {
     "output_type": "execute_result",
     "data": {
      "text/plain": [
       "72.5"
      ]
     },
     "metadata": {},
     "execution_count": 297
    }
   ],
   "source": [
    "from sklearn.metrics import accuracy_score\n",
    "\n",
    "svc_clf.fit(X_train_scaled, y_train_scaled)\n",
    "y_pred = svc_clf.predict(X_test_scaled)\n",
    "\n",
    "# Accuracy score\n",
    "round(accuracy_score(y_test_scaled, y_pred) * 100, 1)"
   ]
  },
  {
   "cell_type": "markdown",
   "metadata": {},
   "source": [
    "### Stratified split"
   ]
  },
  {
   "cell_type": "code",
   "execution_count": 298,
   "metadata": {},
   "outputs": [
    {
     "output_type": "execute_result",
     "data": {
      "text/plain": [
       "male      690\n",
       "female    310\n",
       "Name: Sex, dtype: int64"
      ]
     },
     "metadata": {},
     "execution_count": 298
    }
   ],
   "source": [
    "# Feature Engineering (We cannot delete the missing values because we have too litle information)\n",
    "from sklearn.preprocessing import StandardScaler\n",
    "from sklearn.pipeline import Pipeline, FeatureUnion\n",
    "from sklearn.model_selection import train_test_split, cross_val_score, StratifiedShuffleSplit\n",
    "\n",
    "df[\"Sex\"].value_counts()"
   ]
  },
  {
   "cell_type": "code",
   "execution_count": 299,
   "metadata": {},
   "outputs": [
    {
     "output_type": "execute_result",
     "data": {
      "text/plain": [
       "     Age   Sex  Job Housing Saving accounts Checking account  Credit amount  \\\n",
       "981   33  male    3    rent          little              NaN           4844   \n",
       "726   47  male    1     own      quite rich              NaN           1316   \n",
       "104   26  male    2    rent             NaN              NaN           2445   \n",
       "6     53  male    2     own      quite rich              NaN           2835   \n",
       "19    31  male    2     own      quite rich              NaN           3430   \n",
       "..   ...   ...  ...     ...             ...              ...            ...   \n",
       "587   21  male    1     own          little           little           1289   \n",
       "383   26  male    2     own          little             rich           1330   \n",
       "465   63  male    2     own          little           little           2924   \n",
       "699   40  male    3    rent          little             rich           1905   \n",
       "32    30  male    2     own        moderate         moderate           5866   \n",
       "\n",
       "     Duration              Purpose  Risk     Age_Group  \n",
       "981        48             business   bad  Young Adults  \n",
       "726        15             radio/TV  good        Senior  \n",
       "104        12                  car  good         Young  \n",
       "6          24  furniture/equipment  good        Senior  \n",
       "19         24             radio/TV  good  Young Adults  \n",
       "..        ...                  ...   ...           ...  \n",
       "587        12  furniture/equipment  good         Young  \n",
       "383        12                  car  good         Young  \n",
       "465        24                  car  good         Elder  \n",
       "699        15            education  good  Young Adults  \n",
       "32         18                  car  good  Young Adults  \n",
       "\n",
       "[310 rows x 11 columns]"
      ],
      "text/html": "<div>\n<style scoped>\n    .dataframe tbody tr th:only-of-type {\n        vertical-align: middle;\n    }\n\n    .dataframe tbody tr th {\n        vertical-align: top;\n    }\n\n    .dataframe thead th {\n        text-align: right;\n    }\n</style>\n<table border=\"1\" class=\"dataframe\">\n  <thead>\n    <tr style=\"text-align: right;\">\n      <th></th>\n      <th>Age</th>\n      <th>Sex</th>\n      <th>Job</th>\n      <th>Housing</th>\n      <th>Saving accounts</th>\n      <th>Checking account</th>\n      <th>Credit amount</th>\n      <th>Duration</th>\n      <th>Purpose</th>\n      <th>Risk</th>\n      <th>Age_Group</th>\n    </tr>\n  </thead>\n  <tbody>\n    <tr>\n      <th>981</th>\n      <td>33</td>\n      <td>male</td>\n      <td>3</td>\n      <td>rent</td>\n      <td>little</td>\n      <td>NaN</td>\n      <td>4844</td>\n      <td>48</td>\n      <td>business</td>\n      <td>bad</td>\n      <td>Young Adults</td>\n    </tr>\n    <tr>\n      <th>726</th>\n      <td>47</td>\n      <td>male</td>\n      <td>1</td>\n      <td>own</td>\n      <td>quite rich</td>\n      <td>NaN</td>\n      <td>1316</td>\n      <td>15</td>\n      <td>radio/TV</td>\n      <td>good</td>\n      <td>Senior</td>\n    </tr>\n    <tr>\n      <th>104</th>\n      <td>26</td>\n      <td>male</td>\n      <td>2</td>\n      <td>rent</td>\n      <td>NaN</td>\n      <td>NaN</td>\n      <td>2445</td>\n      <td>12</td>\n      <td>car</td>\n      <td>good</td>\n      <td>Young</td>\n    </tr>\n    <tr>\n      <th>6</th>\n      <td>53</td>\n      <td>male</td>\n      <td>2</td>\n      <td>own</td>\n      <td>quite rich</td>\n      <td>NaN</td>\n      <td>2835</td>\n      <td>24</td>\n      <td>furniture/equipment</td>\n      <td>good</td>\n      <td>Senior</td>\n    </tr>\n    <tr>\n      <th>19</th>\n      <td>31</td>\n      <td>male</td>\n      <td>2</td>\n      <td>own</td>\n      <td>quite rich</td>\n      <td>NaN</td>\n      <td>3430</td>\n      <td>24</td>\n      <td>radio/TV</td>\n      <td>good</td>\n      <td>Young Adults</td>\n    </tr>\n    <tr>\n      <th>...</th>\n      <td>...</td>\n      <td>...</td>\n      <td>...</td>\n      <td>...</td>\n      <td>...</td>\n      <td>...</td>\n      <td>...</td>\n      <td>...</td>\n      <td>...</td>\n      <td>...</td>\n      <td>...</td>\n    </tr>\n    <tr>\n      <th>587</th>\n      <td>21</td>\n      <td>male</td>\n      <td>1</td>\n      <td>own</td>\n      <td>little</td>\n      <td>little</td>\n      <td>1289</td>\n      <td>12</td>\n      <td>furniture/equipment</td>\n      <td>good</td>\n      <td>Young</td>\n    </tr>\n    <tr>\n      <th>383</th>\n      <td>26</td>\n      <td>male</td>\n      <td>2</td>\n      <td>own</td>\n      <td>little</td>\n      <td>rich</td>\n      <td>1330</td>\n      <td>12</td>\n      <td>car</td>\n      <td>good</td>\n      <td>Young</td>\n    </tr>\n    <tr>\n      <th>465</th>\n      <td>63</td>\n      <td>male</td>\n      <td>2</td>\n      <td>own</td>\n      <td>little</td>\n      <td>little</td>\n      <td>2924</td>\n      <td>24</td>\n      <td>car</td>\n      <td>good</td>\n      <td>Elder</td>\n    </tr>\n    <tr>\n      <th>699</th>\n      <td>40</td>\n      <td>male</td>\n      <td>3</td>\n      <td>rent</td>\n      <td>little</td>\n      <td>rich</td>\n      <td>1905</td>\n      <td>15</td>\n      <td>education</td>\n      <td>good</td>\n      <td>Young Adults</td>\n    </tr>\n    <tr>\n      <th>32</th>\n      <td>30</td>\n      <td>male</td>\n      <td>2</td>\n      <td>own</td>\n      <td>moderate</td>\n      <td>moderate</td>\n      <td>5866</td>\n      <td>18</td>\n      <td>car</td>\n      <td>good</td>\n      <td>Young Adults</td>\n    </tr>\n  </tbody>\n</table>\n<p>310 rows × 11 columns</p>\n</div>"
     },
     "metadata": {},
     "execution_count": 299
    }
   ],
   "source": [
    "df_male_sample = df_male.sample(310)\n",
    "df_male_sample"
   ]
  },
  {
   "cell_type": "code",
   "execution_count": 300,
   "metadata": {},
   "outputs": [
    {
     "output_type": "execute_result",
     "data": {
      "text/plain": [
       "     Age     Sex  Job Housing Saving accounts Checking account  Credit amount  \\\n",
       "1     22  female    2     own          little         moderate           5951   \n",
       "10    25  female    2    rent          little         moderate           1295   \n",
       "11    24  female    2    rent          little           little           4308   \n",
       "12    22  female    2     own          little         moderate           1567   \n",
       "14    28  female    2    rent          little           little           1403   \n",
       "..   ...     ...  ...     ...             ...              ...            ...   \n",
       "587   21    male    1     own          little           little           1289   \n",
       "383   26    male    2     own          little             rich           1330   \n",
       "465   63    male    2     own          little           little           2924   \n",
       "699   40    male    3    rent          little             rich           1905   \n",
       "32    30    male    2     own        moderate         moderate           5866   \n",
       "\n",
       "     Duration              Purpose  Risk     Age_Group  \n",
       "1          48             radio/TV   bad         Young  \n",
       "10         12                  car   bad         Young  \n",
       "11         48             business   bad         Young  \n",
       "12         12             radio/TV  good         Young  \n",
       "14         15                  car  good         Young  \n",
       "..        ...                  ...   ...           ...  \n",
       "587        12  furniture/equipment  good         Young  \n",
       "383        12                  car  good         Young  \n",
       "465        24                  car  good         Elder  \n",
       "699        15            education  good  Young Adults  \n",
       "32         18                  car  good  Young Adults  \n",
       "\n",
       "[620 rows x 11 columns]"
      ],
      "text/html": "<div>\n<style scoped>\n    .dataframe tbody tr th:only-of-type {\n        vertical-align: middle;\n    }\n\n    .dataframe tbody tr th {\n        vertical-align: top;\n    }\n\n    .dataframe thead th {\n        text-align: right;\n    }\n</style>\n<table border=\"1\" class=\"dataframe\">\n  <thead>\n    <tr style=\"text-align: right;\">\n      <th></th>\n      <th>Age</th>\n      <th>Sex</th>\n      <th>Job</th>\n      <th>Housing</th>\n      <th>Saving accounts</th>\n      <th>Checking account</th>\n      <th>Credit amount</th>\n      <th>Duration</th>\n      <th>Purpose</th>\n      <th>Risk</th>\n      <th>Age_Group</th>\n    </tr>\n  </thead>\n  <tbody>\n    <tr>\n      <th>1</th>\n      <td>22</td>\n      <td>female</td>\n      <td>2</td>\n      <td>own</td>\n      <td>little</td>\n      <td>moderate</td>\n      <td>5951</td>\n      <td>48</td>\n      <td>radio/TV</td>\n      <td>bad</td>\n      <td>Young</td>\n    </tr>\n    <tr>\n      <th>10</th>\n      <td>25</td>\n      <td>female</td>\n      <td>2</td>\n      <td>rent</td>\n      <td>little</td>\n      <td>moderate</td>\n      <td>1295</td>\n      <td>12</td>\n      <td>car</td>\n      <td>bad</td>\n      <td>Young</td>\n    </tr>\n    <tr>\n      <th>11</th>\n      <td>24</td>\n      <td>female</td>\n      <td>2</td>\n      <td>rent</td>\n      <td>little</td>\n      <td>little</td>\n      <td>4308</td>\n      <td>48</td>\n      <td>business</td>\n      <td>bad</td>\n      <td>Young</td>\n    </tr>\n    <tr>\n      <th>12</th>\n      <td>22</td>\n      <td>female</td>\n      <td>2</td>\n      <td>own</td>\n      <td>little</td>\n      <td>moderate</td>\n      <td>1567</td>\n      <td>12</td>\n      <td>radio/TV</td>\n      <td>good</td>\n      <td>Young</td>\n    </tr>\n    <tr>\n      <th>14</th>\n      <td>28</td>\n      <td>female</td>\n      <td>2</td>\n      <td>rent</td>\n      <td>little</td>\n      <td>little</td>\n      <td>1403</td>\n      <td>15</td>\n      <td>car</td>\n      <td>good</td>\n      <td>Young</td>\n    </tr>\n    <tr>\n      <th>...</th>\n      <td>...</td>\n      <td>...</td>\n      <td>...</td>\n      <td>...</td>\n      <td>...</td>\n      <td>...</td>\n      <td>...</td>\n      <td>...</td>\n      <td>...</td>\n      <td>...</td>\n      <td>...</td>\n    </tr>\n    <tr>\n      <th>587</th>\n      <td>21</td>\n      <td>male</td>\n      <td>1</td>\n      <td>own</td>\n      <td>little</td>\n      <td>little</td>\n      <td>1289</td>\n      <td>12</td>\n      <td>furniture/equipment</td>\n      <td>good</td>\n      <td>Young</td>\n    </tr>\n    <tr>\n      <th>383</th>\n      <td>26</td>\n      <td>male</td>\n      <td>2</td>\n      <td>own</td>\n      <td>little</td>\n      <td>rich</td>\n      <td>1330</td>\n      <td>12</td>\n      <td>car</td>\n      <td>good</td>\n      <td>Young</td>\n    </tr>\n    <tr>\n      <th>465</th>\n      <td>63</td>\n      <td>male</td>\n      <td>2</td>\n      <td>own</td>\n      <td>little</td>\n      <td>little</td>\n      <td>2924</td>\n      <td>24</td>\n      <td>car</td>\n      <td>good</td>\n      <td>Elder</td>\n    </tr>\n    <tr>\n      <th>699</th>\n      <td>40</td>\n      <td>male</td>\n      <td>3</td>\n      <td>rent</td>\n      <td>little</td>\n      <td>rich</td>\n      <td>1905</td>\n      <td>15</td>\n      <td>education</td>\n      <td>good</td>\n      <td>Young Adults</td>\n    </tr>\n    <tr>\n      <th>32</th>\n      <td>30</td>\n      <td>male</td>\n      <td>2</td>\n      <td>own</td>\n      <td>moderate</td>\n      <td>moderate</td>\n      <td>5866</td>\n      <td>18</td>\n      <td>car</td>\n      <td>good</td>\n      <td>Young Adults</td>\n    </tr>\n  </tbody>\n</table>\n<p>620 rows × 11 columns</p>\n</div>"
     },
     "metadata": {},
     "execution_count": 300
    }
   ],
   "source": [
    "df_equal_sex = df_female.append(df_male_sample)\n",
    "df_equal_sex"
   ]
  },
  {
   "cell_type": "code",
   "execution_count": 301,
   "metadata": {},
   "outputs": [
    {
     "output_type": "execute_result",
     "data": {
      "text/plain": [
       "     Age     Sex  Job Housing Saving accounts Checking account  Credit amount  \\\n",
       "0     22  female    2     own          little         moderate           5951   \n",
       "1     25  female    2    rent          little         moderate           1295   \n",
       "2     24  female    2    rent          little           little           4308   \n",
       "3     22  female    2     own          little         moderate           1567   \n",
       "4     28  female    2    rent          little           little           1403   \n",
       "..   ...     ...  ...     ...             ...              ...            ...   \n",
       "615   21    male    1     own          little           little           1289   \n",
       "616   26    male    2     own          little             rich           1330   \n",
       "617   63    male    2     own          little           little           2924   \n",
       "618   40    male    3    rent          little             rich           1905   \n",
       "619   30    male    2     own        moderate         moderate           5866   \n",
       "\n",
       "     Duration              Purpose  Risk     Age_Group  \n",
       "0          48             radio/TV   bad         Young  \n",
       "1          12                  car   bad         Young  \n",
       "2          48             business   bad         Young  \n",
       "3          12             radio/TV  good         Young  \n",
       "4          15                  car  good         Young  \n",
       "..        ...                  ...   ...           ...  \n",
       "615        12  furniture/equipment  good         Young  \n",
       "616        12                  car  good         Young  \n",
       "617        24                  car  good         Elder  \n",
       "618        15            education  good  Young Adults  \n",
       "619        18                  car  good  Young Adults  \n",
       "\n",
       "[620 rows x 11 columns]"
      ],
      "text/html": "<div>\n<style scoped>\n    .dataframe tbody tr th:only-of-type {\n        vertical-align: middle;\n    }\n\n    .dataframe tbody tr th {\n        vertical-align: top;\n    }\n\n    .dataframe thead th {\n        text-align: right;\n    }\n</style>\n<table border=\"1\" class=\"dataframe\">\n  <thead>\n    <tr style=\"text-align: right;\">\n      <th></th>\n      <th>Age</th>\n      <th>Sex</th>\n      <th>Job</th>\n      <th>Housing</th>\n      <th>Saving accounts</th>\n      <th>Checking account</th>\n      <th>Credit amount</th>\n      <th>Duration</th>\n      <th>Purpose</th>\n      <th>Risk</th>\n      <th>Age_Group</th>\n    </tr>\n  </thead>\n  <tbody>\n    <tr>\n      <th>0</th>\n      <td>22</td>\n      <td>female</td>\n      <td>2</td>\n      <td>own</td>\n      <td>little</td>\n      <td>moderate</td>\n      <td>5951</td>\n      <td>48</td>\n      <td>radio/TV</td>\n      <td>bad</td>\n      <td>Young</td>\n    </tr>\n    <tr>\n      <th>1</th>\n      <td>25</td>\n      <td>female</td>\n      <td>2</td>\n      <td>rent</td>\n      <td>little</td>\n      <td>moderate</td>\n      <td>1295</td>\n      <td>12</td>\n      <td>car</td>\n      <td>bad</td>\n      <td>Young</td>\n    </tr>\n    <tr>\n      <th>2</th>\n      <td>24</td>\n      <td>female</td>\n      <td>2</td>\n      <td>rent</td>\n      <td>little</td>\n      <td>little</td>\n      <td>4308</td>\n      <td>48</td>\n      <td>business</td>\n      <td>bad</td>\n      <td>Young</td>\n    </tr>\n    <tr>\n      <th>3</th>\n      <td>22</td>\n      <td>female</td>\n      <td>2</td>\n      <td>own</td>\n      <td>little</td>\n      <td>moderate</td>\n      <td>1567</td>\n      <td>12</td>\n      <td>radio/TV</td>\n      <td>good</td>\n      <td>Young</td>\n    </tr>\n    <tr>\n      <th>4</th>\n      <td>28</td>\n      <td>female</td>\n      <td>2</td>\n      <td>rent</td>\n      <td>little</td>\n      <td>little</td>\n      <td>1403</td>\n      <td>15</td>\n      <td>car</td>\n      <td>good</td>\n      <td>Young</td>\n    </tr>\n    <tr>\n      <th>...</th>\n      <td>...</td>\n      <td>...</td>\n      <td>...</td>\n      <td>...</td>\n      <td>...</td>\n      <td>...</td>\n      <td>...</td>\n      <td>...</td>\n      <td>...</td>\n      <td>...</td>\n      <td>...</td>\n    </tr>\n    <tr>\n      <th>615</th>\n      <td>21</td>\n      <td>male</td>\n      <td>1</td>\n      <td>own</td>\n      <td>little</td>\n      <td>little</td>\n      <td>1289</td>\n      <td>12</td>\n      <td>furniture/equipment</td>\n      <td>good</td>\n      <td>Young</td>\n    </tr>\n    <tr>\n      <th>616</th>\n      <td>26</td>\n      <td>male</td>\n      <td>2</td>\n      <td>own</td>\n      <td>little</td>\n      <td>rich</td>\n      <td>1330</td>\n      <td>12</td>\n      <td>car</td>\n      <td>good</td>\n      <td>Young</td>\n    </tr>\n    <tr>\n      <th>617</th>\n      <td>63</td>\n      <td>male</td>\n      <td>2</td>\n      <td>own</td>\n      <td>little</td>\n      <td>little</td>\n      <td>2924</td>\n      <td>24</td>\n      <td>car</td>\n      <td>good</td>\n      <td>Elder</td>\n    </tr>\n    <tr>\n      <th>618</th>\n      <td>40</td>\n      <td>male</td>\n      <td>3</td>\n      <td>rent</td>\n      <td>little</td>\n      <td>rich</td>\n      <td>1905</td>\n      <td>15</td>\n      <td>education</td>\n      <td>good</td>\n      <td>Young Adults</td>\n    </tr>\n    <tr>\n      <th>619</th>\n      <td>30</td>\n      <td>male</td>\n      <td>2</td>\n      <td>own</td>\n      <td>moderate</td>\n      <td>moderate</td>\n      <td>5866</td>\n      <td>18</td>\n      <td>car</td>\n      <td>good</td>\n      <td>Young Adults</td>\n    </tr>\n  </tbody>\n</table>\n<p>620 rows × 11 columns</p>\n</div>"
     },
     "metadata": {},
     "execution_count": 301
    }
   ],
   "source": [
    "df_equal_sex = df_equal_sex.reset_index(drop=True)\n",
    "df_equal_sex"
   ]
  },
  {
   "cell_type": "code",
   "execution_count": 302,
   "metadata": {},
   "outputs": [],
   "source": [
    "df_equal_sex.drop(['Checking account', 'Saving accounts'], axis=1, inplace=True)"
   ]
  },
  {
   "cell_type": "code",
   "execution_count": 303,
   "metadata": {},
   "outputs": [
    {
     "output_type": "execute_result",
     "data": {
      "text/plain": [
       "Age              0\n",
       "Sex              0\n",
       "Job              0\n",
       "Housing          0\n",
       "Credit amount    0\n",
       "Duration         0\n",
       "Purpose          0\n",
       "Risk             0\n",
       "Age_Group        0\n",
       "dtype: int64"
      ]
     },
     "metadata": {},
     "execution_count": 303
    }
   ],
   "source": [
    "df_equal_sex.isnull().sum().sort_values(ascending=False)"
   ]
  },
  {
   "cell_type": "code",
   "execution_count": 304,
   "metadata": {},
   "outputs": [
    {
     "output_type": "stream",
     "name": "stdout",
     "text": [
      "620\nfemale    310\nmale      310\nName: Sex, dtype: int64\n"
     ]
    }
   ],
   "source": [
    "print(len(df_equal_sex))\n",
    "print(df_equal_sex[\"Sex\"].value_counts())"
   ]
  },
  {
   "cell_type": "code",
   "execution_count": 305,
   "metadata": {},
   "outputs": [
    {
     "output_type": "stream",
     "name": "stdout",
     "text": [
      "train 49.9\ntest 50.2\n"
     ]
    }
   ],
   "source": [
    "stratified = StratifiedShuffleSplit(n_splits=1, test_size=1/3, random_state=42)\n",
    "\n",
    "for train, test in stratified.split(df_equal_sex, df_equal_sex[\"Sex\"]):\n",
    "    strat_train = df_equal_sex.loc[train]\n",
    "    strat_test = df_equal_sex.loc[test]\n",
    "    \n",
    "print('train', round(len(strat_train[strat_train['Sex'] == 'female']) * 100 / len(strat_train), 1)) \n",
    "print('test', round(len(strat_test[strat_test['Sex'] == 'female']) * 100 / len(strat_test), 1)) "
   ]
  },
  {
   "cell_type": "code",
   "execution_count": 306,
   "metadata": {},
   "outputs": [
    {
     "output_type": "execute_result",
     "data": {
      "text/plain": [
       "female    104\n",
       "male      103\n",
       "Name: Sex, dtype: int64"
      ]
     },
     "metadata": {},
     "execution_count": 306
    }
   ],
   "source": [
    "strat_test[\"Sex\"].value_counts()"
   ]
  },
  {
   "cell_type": "code",
   "execution_count": 307,
   "metadata": {},
   "outputs": [],
   "source": [
    "# Have our new train and test data\n",
    "train = strat_train\n",
    "test = strat_test\n",
    "\n",
    "\n",
    "# Our features\n",
    "X_train = train.drop('Risk', axis=1)\n",
    "X_test = test.drop('Risk', axis=1)\n",
    "\n",
    "# Our Labels we will use them later\n",
    "y_train = train[\"Risk\"]\n",
    "y_test = test[\"Risk\"]"
   ]
  },
  {
   "cell_type": "code",
   "execution_count": 308,
   "metadata": {},
   "outputs": [],
   "source": [
    "numeric_train_df = X_train.select_dtypes(exclude=['object'])\n",
    "numeric_test_df = X_test.select_dtypes(exclude=['object'])\n",
    "\n",
    "categorical_train_df = X_train.select_dtypes(['object'])\n",
    "categorical_test_df = X_test.select_dtypes(['object'])\n",
    "\n",
    "numerical_pipeline = Pipeline([\n",
    "    (\"select_numeric\", DataFrameSelector(numeric_train_df.columns.values.tolist())),\n",
    "    (\"std_scaler\", StandardScaler()),\n",
    "])\n",
    "\n",
    "categorical_pipeline = Pipeline([\n",
    "    ('select_categoric', DataFrameSelector(categorical_train_df.columns.values.tolist())),\n",
    "    ('encoding', CategoricalEncoder(encoding='onehot-dense'))\n",
    "])\n",
    "\n",
    "# Combine both pipelines\n",
    "main_pipeline = FeatureUnion(transformer_list=[\n",
    "    ('num_pipeline', numerical_pipeline),\n",
    "    ('cat_pipeline', categorical_pipeline)\n",
    "])\n",
    "\n",
    "X_train_scaled = main_pipeline.fit_transform(X_train)\n",
    "X_test_scaled = main_pipeline.fit_transform(X_test)\n",
    "\n",
    "encode = LabelEncoder()\n",
    "y_train_scaled = encode.fit_transform(y_train)\n",
    "y_test_scaled = encode.fit_transform(y_test)"
   ]
  },
  {
   "cell_type": "code",
   "execution_count": 309,
   "metadata": {},
   "outputs": [
    {
     "output_type": "execute_result",
     "data": {
      "text/plain": [
       "GridSearchCV(estimator=SVC(random_state=42),\n",
       "             param_grid={'C': [0.75, 0.85, 0.95, 1], 'degree': [3, 4, 5],\n",
       "                         'kernel': ['linear', 'poly', 'rbf', 'sigmoid']})"
      ]
     },
     "metadata": {},
     "execution_count": 309
    }
   ],
   "source": [
    "params = {'C': [0.75, 0.85, 0.95, 1], 'kernel': ['linear', 'poly', 'rbf', 'sigmoid'], 'degree': [3, 4, 5]}\n",
    "\n",
    "svc_clf = SVC(random_state=42)\n",
    "\n",
    "grid_search_cv = GridSearchCV(svc_clf, params)\n",
    "grid_search_cv.fit(X_train_scaled, y_train_scaled)"
   ]
  },
  {
   "cell_type": "code",
   "execution_count": 310,
   "metadata": {},
   "outputs": [
    {
     "output_type": "execute_result",
     "data": {
      "text/plain": [
       "SVC(C=0.95, kernel='poly', random_state=42)"
      ]
     },
     "metadata": {},
     "execution_count": 310
    }
   ],
   "source": [
    "grid_search_cv.best_estimator_"
   ]
  },
  {
   "cell_type": "code",
   "execution_count": 311,
   "metadata": {},
   "outputs": [
    {
     "output_type": "execute_result",
     "data": {
      "text/plain": [
       "{'C': 0.95, 'degree': 3, 'kernel': 'poly'}"
      ]
     },
     "metadata": {},
     "execution_count": 311
    }
   ],
   "source": [
    "grid_search_cv.best_params_"
   ]
  },
  {
   "cell_type": "code",
   "execution_count": 312,
   "metadata": {},
   "outputs": [
    {
     "output_type": "execute_result",
     "data": {
      "text/plain": [
       "SVC(C=0.95, kernel='poly', random_state=42)"
      ]
     },
     "metadata": {},
     "execution_count": 312
    }
   ],
   "source": [
    "svc_clf = grid_search_cv.best_estimator_\n",
    "svc_clf.fit(X_train_scaled, y_train_scaled)"
   ]
  },
  {
   "cell_type": "code",
   "execution_count": 313,
   "metadata": {},
   "outputs": [
    {
     "output_type": "execute_result",
     "data": {
      "text/plain": [
       "0.7917675544794189"
      ]
     },
     "metadata": {},
     "execution_count": 313
    }
   ],
   "source": [
    "svc_clf.score(X_train_scaled, y_train_scaled)"
   ]
  },
  {
   "cell_type": "code",
   "execution_count": 314,
   "metadata": {},
   "outputs": [
    {
     "output_type": "execute_result",
     "data": {
      "text/plain": [
       "0.7166617690273288"
      ]
     },
     "metadata": {},
     "execution_count": 314
    }
   ],
   "source": [
    "# Let's make sure the data is not overfitting\n",
    "svc_clf = SVC(kernel='rbf', C=1, random_state=42)\n",
    "scores = cross_val_score(svc_clf, X_train_scaled, y_train_scaled)\n",
    "scores.mean()"
   ]
  },
  {
   "cell_type": "code",
   "execution_count": 315,
   "metadata": {},
   "outputs": [
    {
     "output_type": "execute_result",
     "data": {
      "text/plain": [
       "71.0"
      ]
     },
     "metadata": {},
     "execution_count": 315
    }
   ],
   "source": [
    "svc_clf.fit(X_train_scaled, y_train_scaled)\n",
    "y_pred = svc_clf.predict(X_test_scaled)\n",
    "\n",
    "# Accuracy score\n",
    "round(accuracy_score(y_test_scaled, y_pred) * 100, 1)"
   ]
  },
  {
   "source": [
    "## Repair algorithm"
   ],
   "cell_type": "markdown",
   "metadata": {}
  },
  {
   "cell_type": "code",
   "execution_count": 316,
   "metadata": {},
   "outputs": [
    {
     "output_type": "execute_result",
     "data": {
      "text/plain": [
       "      Sex  Job Housing  Credit amount  Duration              Purpose  Risk  \\\n",
       "0    male    2     own           1169         6             radio/TV  good   \n",
       "1  female    2     own           5951        48             radio/TV   bad   \n",
       "2    male    1     own           2096        12            education  good   \n",
       "3    male    2    free           7882        42  furniture/equipment  good   \n",
       "4    male    2    free           4870        24                  car   bad   \n",
       "\n",
       "  Age_Group  \n",
       "0     Elder  \n",
       "1     Young  \n",
       "2    Senior  \n",
       "3    Senior  \n",
       "4    Senior  "
      ],
      "text/html": "<div>\n<style scoped>\n    .dataframe tbody tr th:only-of-type {\n        vertical-align: middle;\n    }\n\n    .dataframe tbody tr th {\n        vertical-align: top;\n    }\n\n    .dataframe thead th {\n        text-align: right;\n    }\n</style>\n<table border=\"1\" class=\"dataframe\">\n  <thead>\n    <tr style=\"text-align: right;\">\n      <th></th>\n      <th>Sex</th>\n      <th>Job</th>\n      <th>Housing</th>\n      <th>Credit amount</th>\n      <th>Duration</th>\n      <th>Purpose</th>\n      <th>Risk</th>\n      <th>Age_Group</th>\n    </tr>\n  </thead>\n  <tbody>\n    <tr>\n      <th>0</th>\n      <td>male</td>\n      <td>2</td>\n      <td>own</td>\n      <td>1169</td>\n      <td>6</td>\n      <td>radio/TV</td>\n      <td>good</td>\n      <td>Elder</td>\n    </tr>\n    <tr>\n      <th>1</th>\n      <td>female</td>\n      <td>2</td>\n      <td>own</td>\n      <td>5951</td>\n      <td>48</td>\n      <td>radio/TV</td>\n      <td>bad</td>\n      <td>Young</td>\n    </tr>\n    <tr>\n      <th>2</th>\n      <td>male</td>\n      <td>1</td>\n      <td>own</td>\n      <td>2096</td>\n      <td>12</td>\n      <td>education</td>\n      <td>good</td>\n      <td>Senior</td>\n    </tr>\n    <tr>\n      <th>3</th>\n      <td>male</td>\n      <td>2</td>\n      <td>free</td>\n      <td>7882</td>\n      <td>42</td>\n      <td>furniture/equipment</td>\n      <td>good</td>\n      <td>Senior</td>\n    </tr>\n    <tr>\n      <th>4</th>\n      <td>male</td>\n      <td>2</td>\n      <td>free</td>\n      <td>4870</td>\n      <td>24</td>\n      <td>car</td>\n      <td>bad</td>\n      <td>Senior</td>\n    </tr>\n  </tbody>\n</table>\n</div>"
     },
     "metadata": {},
     "execution_count": 316
    }
   ],
   "source": [
    "df = df.drop([\"Age\"], axis=1)\n",
    "df.head()"
   ]
  },
  {
   "cell_type": "code",
   "execution_count": 317,
   "metadata": {},
   "outputs": [],
   "source": [
    "from itertools import product \n",
    "from math import inf\n",
    "\n",
    "# cartesian product\n",
    "all_stratified_combinations = list(product(df['Sex'].unique(), df['Age_Group'].unique()))\n",
    "\n",
    "combination_sizes = []\n",
    "for combination in all_stratified_combinations:\n",
    "    sex, age_group = combination\n",
    "    combination_size = len(df[(df['Sex'] == sex) & (df['Age_Group'] == age_group)])\n",
    "    combination_sizes.append(combination_size)\n",
    "    if combination_size == 0:\n",
    "        all_stratified_combinations.remove(combination)\n",
    "\n",
    "number_of_quantiles = min(combination_sizes)\n",
    "\n",
    "D_prime = df.copy()"
   ]
  },
  {
   "cell_type": "code",
   "execution_count": 318,
   "metadata": {},
   "outputs": [
    {
     "output_type": "execute_result",
     "data": {
      "text/plain": [
       "['Job', 'Credit amount', 'Duration']"
      ]
     },
     "metadata": {},
     "execution_count": 318
    }
   ],
   "source": [
    "Y_columns = list(D_prime.select_dtypes('number').columns)\n",
    "Y_columns"
   ]
  },
  {
   "cell_type": "code",
   "execution_count": 319,
   "metadata": {},
   "outputs": [
    {
     "output_type": "execute_result",
     "data": {
      "text/plain": [
       "[48, 200, 161, 281, 23, 171, 42, 74]"
      ]
     },
     "metadata": {},
     "execution_count": 319
    }
   ],
   "source": [
    "combination_sizes"
   ]
  },
  {
   "cell_type": "code",
   "execution_count": 336,
   "metadata": {},
   "outputs": [
    {
     "output_type": "execute_result",
     "data": {
      "text/plain": [
       "0      2333.0\n",
       "1      2333.0\n",
       "2      2333.0\n",
       "3      2333.0\n",
       "4      2333.0\n",
       "        ...  \n",
       "995    1736.0\n",
       "996    3857.0\n",
       "997     804.0\n",
       "998    1845.0\n",
       "999    4576.0\n",
       "Name: Credit amount, Length: 1000, dtype: float64"
      ]
     },
     "metadata": {},
     "execution_count": 336
    }
   ],
   "source": [
    "D_prime['Credit amount']"
   ]
  },
  {
   "cell_type": "code",
   "execution_count": 333,
   "metadata": {},
   "outputs": [],
   "source": [
    "from math import ceil\n",
    "\n",
    "lmbda = 1\n",
    "\n",
    "def repair(Y_columns, all_stratified_groups, number_of_quantiles, lmbda):\n",
    "    quantile_unit = 1.0/number_of_quantiles\n",
    "    column = 'Credit amount'\n",
    "    for column in Y_columns:\n",
    "        for quantile_num in range(1, number_of_quantiles - 1):\n",
    "            median_values_at_quantile = []\n",
    "            entries_at_quantile = []    \n",
    "            for group in all_stratified_groups:\n",
    "                sex, age_group = group\n",
    "                df_group = df[column][(df['Sex'] == sex) & (df['Age_Group'] == age_group)]\n",
    "                \n",
    "                quantiles = np.array_split(df_group, number_of_quantiles)\n",
    "                selected_quantile = quantiles[quantile_num - 1]\n",
    "\n",
    "                median_values_at_quantile.append(selected_quantile.median())\n",
    "\n",
    "                for entry_ID in list(selected_quantile.index):\n",
    "                    entries_at_quantile.append(entry_ID)\n",
    "            \n",
    "            median_values_at_quantile.sort()\n",
    "            target_index = ceil(len(median_values_at_quantile)/2) - 1 # pick smaller in the case of even length lists\n",
    "            target_value = median_values_at_quantile[target_index]\n",
    "\n",
    "            for entry_ID in entries_at_quantile:\n",
    "                original_value = df.loc[entry_ID, column]\n",
    "                repair_value = (1 - lmbda)*original_value + lmbda*target_value\n",
    "                D_prime.loc[entry_ID, column] = repair_value\n",
    "\n",
    "repair(Y_columns, all_stratified_combinations, number_of_quantiles, lmbda)\n"
   ]
  },
  {
   "cell_type": "code",
   "execution_count": 338,
   "metadata": {},
   "outputs": [
    {
     "output_type": "execute_result",
     "data": {
      "text/plain": [
       "101"
      ]
     },
     "metadata": {},
     "execution_count": 338
    }
   ],
   "source": [
    "len(D_prime['Credit amount'].unique())"
   ]
  },
  {
   "cell_type": "code",
   "execution_count": 339,
   "metadata": {},
   "outputs": [
    {
     "output_type": "execute_result",
     "data": {
      "text/plain": [
       "      Sex  Job Housing  Credit amount  Duration              Purpose Age_Group\n",
       "0    male  2.0     own         2333.0      18.0             radio/TV     Elder\n",
       "1  female  2.0     own         2333.0      18.0             radio/TV     Young\n",
       "2    male  2.0     own         2333.0      18.0            education    Senior\n",
       "3    male  2.0    free         2333.0      18.0  furniture/equipment    Senior\n",
       "4    male  2.0    free         2333.0      18.0                  car    Senior"
      ],
      "text/html": "<div>\n<style scoped>\n    .dataframe tbody tr th:only-of-type {\n        vertical-align: middle;\n    }\n\n    .dataframe tbody tr th {\n        vertical-align: top;\n    }\n\n    .dataframe thead th {\n        text-align: right;\n    }\n</style>\n<table border=\"1\" class=\"dataframe\">\n  <thead>\n    <tr style=\"text-align: right;\">\n      <th></th>\n      <th>Sex</th>\n      <th>Job</th>\n      <th>Housing</th>\n      <th>Credit amount</th>\n      <th>Duration</th>\n      <th>Purpose</th>\n      <th>Age_Group</th>\n    </tr>\n  </thead>\n  <tbody>\n    <tr>\n      <th>0</th>\n      <td>male</td>\n      <td>2.0</td>\n      <td>own</td>\n      <td>2333.0</td>\n      <td>18.0</td>\n      <td>radio/TV</td>\n      <td>Elder</td>\n    </tr>\n    <tr>\n      <th>1</th>\n      <td>female</td>\n      <td>2.0</td>\n      <td>own</td>\n      <td>2333.0</td>\n      <td>18.0</td>\n      <td>radio/TV</td>\n      <td>Young</td>\n    </tr>\n    <tr>\n      <th>2</th>\n      <td>male</td>\n      <td>2.0</td>\n      <td>own</td>\n      <td>2333.0</td>\n      <td>18.0</td>\n      <td>education</td>\n      <td>Senior</td>\n    </tr>\n    <tr>\n      <th>3</th>\n      <td>male</td>\n      <td>2.0</td>\n      <td>free</td>\n      <td>2333.0</td>\n      <td>18.0</td>\n      <td>furniture/equipment</td>\n      <td>Senior</td>\n    </tr>\n    <tr>\n      <th>4</th>\n      <td>male</td>\n      <td>2.0</td>\n      <td>free</td>\n      <td>2333.0</td>\n      <td>18.0</td>\n      <td>car</td>\n      <td>Senior</td>\n    </tr>\n  </tbody>\n</table>\n</div>"
     },
     "metadata": {},
     "execution_count": 339
    }
   ],
   "source": [
    "# Create set of only independant variables by dropping Risk\n",
    "def run_naive_experiment(dataframe):\n",
    "    X = dataframe.drop(['Risk'], axis=1)\n",
    "    y = dataframe['Risk']\n",
    "    X_train, X_test, y_train, y_test = train_test_split(X, y, test_size=1/3, random_state=5)\n",
    "\n",
    "    X_train_scaled = main_pipeline.fit_transform(X_train)\n",
    "    X_test_scaled = main_pipeline.fit_transform(X_test)\n",
    "\n",
    "    svc_clf = SVC(random_state=42)\n",
    "    \n",
    "    grid_search_cv = GridSearchCV(svc_clf, params)\n",
    "    grid_search_cv.fit(X_train_scaled, y_train_scaled)\n",
    "\n",
    "    print(grid_search_cv.best_params_)\n",
    "\n",
    "    svc_clf = grid_search_cv.best_estimator_\n",
    "    svc_clf.fit(X_train_scaled, y_train_scaled)"
   ]
  },
  {
   "cell_type": "code",
   "execution_count": 346,
   "metadata": {},
   "outputs": [
    {
     "output_type": "execute_result",
     "data": {
      "text/plain": [
       "SVC(C=0.95, kernel='poly', random_state=42)"
      ]
     },
     "metadata": {},
     "execution_count": 346
    }
   ],
   "source": [
    "svc_clf = grid_search_cv.best_estimator_\n",
    "svc_clf.fit(X_train_scaled, y_train_scaled)"
   ]
  },
  {
   "cell_type": "code",
   "execution_count": 347,
   "metadata": {},
   "outputs": [
    {
     "output_type": "execute_result",
     "data": {
      "text/plain": [
       "0.7917675544794189"
      ]
     },
     "metadata": {},
     "execution_count": 347
    }
   ],
   "source": [
    "svc_clf.score(X_train_scaled, y_train_scaled)"
   ]
  },
  {
   "cell_type": "code",
   "execution_count": 349,
   "metadata": {},
   "outputs": [
    {
     "output_type": "execute_result",
     "data": {
      "text/plain": [
       "0.7264178665883044"
      ]
     },
     "metadata": {},
     "execution_count": 349
    }
   ],
   "source": [
    "# Let's make sure the data is not overfitting\n",
    "svc_clf = SVC(kernel='poly', C=0.95, random_state=42)\n",
    "scores = cross_val_score(svc_clf, X_train_scaled, y_train_scaled)\n",
    "scores.mean()"
   ]
  },
  {
   "cell_type": "code",
   "execution_count": 350,
   "metadata": {},
   "outputs": [
    {
     "output_type": "execute_result",
     "data": {
      "text/plain": [
       "68.6"
      ]
     },
     "metadata": {},
     "execution_count": 350
    }
   ],
   "source": [
    "svc_clf.fit(X_train_scaled, y_train_scaled)\n",
    "y_pred = svc_clf.predict(X_test_scaled)\n",
    "\n",
    "# Accuracy score\n",
    "round(accuracy_score(y_test_scaled, y_pred) * 100, 1)"
   ]
  },
  {
   "cell_type": "code",
   "execution_count": null,
   "metadata": {},
   "outputs": [],
   "source": []
  }
 ],
 "metadata": {
  "kernelspec": {
   "name": "python3",
   "display_name": "Python 3.8.2 64-bit ('venv')",
   "metadata": {
    "interpreter": {
     "hash": "9de6cc8f06ed95fa2c7562ca8bd200b05c25555e534488be6451d6bda47c8dfa"
    }
   }
  },
  "language_info": {
   "codemirror_mode": {
    "name": "ipython",
    "version": 3
   },
   "file_extension": ".py",
   "mimetype": "text/x-python",
   "name": "python",
   "nbconvert_exporter": "python",
   "pygments_lexer": "ipython3",
   "version": "3.8.2-final"
  },
  "orig_nbformat": 2
 },
 "nbformat": 4,
 "nbformat_minor": 2
}